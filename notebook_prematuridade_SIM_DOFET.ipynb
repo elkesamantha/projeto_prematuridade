{
 "cells": [
  {
   "cell_type": "markdown",
   "metadata": {},
   "source": [
    "# Importação de Bibliotecas"
   ]
  },
  {
   "cell_type": "code",
   "execution_count": 1,
   "metadata": {},
   "outputs": [],
   "source": [
    "import zipfile\n",
    "import os\n",
    "import pandas as pd"
   ]
  },
  {
   "cell_type": "markdown",
   "metadata": {},
   "source": [
    "# 1.Extração de Arquivos Específicos do ZIP - 2018 até 2020"
   ]
  },
  {
   "cell_type": "code",
   "execution_count": 2,
   "metadata": {},
   "outputs": [],
   "source": [
    "#Nome do arquivo ZIP\n",
    "nome_arquivo_zip = 'ETLSIM.DOFET.zip'\n",
    "\n",
    "#Abre o arquivo ZIP\n",
    "with zipfile.ZipFile(nome_arquivo_zip, 'r') as zip_ref:\n",
    "    #Obtem uma lista de nomes de arquivos dentro do ZIP\n",
    "    nomes_arquivos = zip_ref.namelist()\n"
   ]
  },
  {
   "cell_type": "code",
   "execution_count": 3,
   "metadata": {},
   "outputs": [
    {
     "name": "stdout",
     "output_type": "stream",
     "text": [
      "['ETLSIM.DOFET_2018_t.csv', 'ETLSIM.DOFET_2019_t.csv', 'ETLSIM.DOFET_2020_t.csv']\n"
     ]
    }
   ],
   "source": [
    "lista_2018 = [nome for nome in nomes_arquivos if \"2018\" in nome]\n",
    "lista_2019 = [nome for nome in nomes_arquivos if \"2019\" in nome]\n",
    "lista_2020 = [nome for nome in nomes_arquivos if \"_2020\" in nome]\n",
    "\n",
    "joinedlist = lista_2018 + lista_2019 + lista_2020\n",
    "\n",
    "print(joinedlist)"
   ]
  },
  {
   "cell_type": "code",
   "execution_count": 4,
   "metadata": {},
   "outputs": [
    {
     "name": "stdout",
     "output_type": "stream",
     "text": [
      "ETLSIM.DOFET_2018_t.csv\n",
      "ETLSIM.DOFET_2019_t.csv\n",
      "ETLSIM.DOFET_2020_t.csv\n"
     ]
    }
   ],
   "source": [
    "# Diretorio base onde os arquivos estao localizados\n",
    "diretorio_base = r'C:\\Users\\Elke\\Desktop\\projeto_prematuridade\\ETLSIM.DOFET.zip'\n",
    "\n",
    "# Cria uma nova lista com caminhos relativos\n",
    "caminhos_arquivos = [os.path.relpath(os.path.join(diretorio_base, nome), diretorio_base) for nome in joinedlist]\n",
    "\n",
    "# Os caminhos relativos dos arquivos estarao na lista caminhos_arquivos\n",
    "for caminho in caminhos_arquivos:\n",
    "    print(caminho)\n"
   ]
  },
  {
   "cell_type": "code",
   "execution_count": 5,
   "metadata": {},
   "outputs": [],
   "source": [
    "caminhos_arquivos = [\"ETLSIM.DOFET_2018_t.csv\",\"ETLSIM.DOFET_2019_t.csv\",\"ETLSIM.DOFET_2020_t.csv\"]"
   ]
  },
  {
   "cell_type": "code",
   "execution_count": 6,
   "metadata": {},
   "outputs": [
    {
     "name": "stdout",
     "output_type": "stream",
     "text": [
      "Arquivo extraído: ETLSIM.DOFET_2018_t.csv\n",
      "Arquivo extraído: ETLSIM.DOFET_2019_t.csv\n",
      "Arquivo extraído: ETLSIM.DOFET_2020_t.csv\n"
     ]
    }
   ],
   "source": [
    "\n",
    "def extrair_arquivos_especificos_de_pasta_zip(pasta_zipada, caminhos_arquivos, pasta_de_destino):\n",
    "    # Verifique se a pasta zipada existe\n",
    "    if not os.path.isfile(pasta_zipada):\n",
    "        print(f'A pasta zipada não existe: {pasta_zipada}')\n",
    "        return\n",
    "\n",
    "    with zipfile.ZipFile(pasta_zipada, 'r') as zip_ref:\n",
    "        for caminho_arquivo in caminhos_arquivos:\n",
    "            try:\n",
    "                zip_ref.extract(caminho_arquivo, pasta_de_destino)\n",
    "                print(f'Arquivo extraído: {caminho_arquivo}')\n",
    "            except KeyError:\n",
    "                print(f'Arquivo não encontrado na pasta zipada: {caminho_arquivo}')\n",
    "\n",
    "pasta_zipada = 'ETLSIM.DOFET.zip'  # Pasta ZIP que contém os arquivos\n",
    "pasta_destino = 'SIM_DOFET_2018_ate_2020'  # Pasta para onde os arquivos serao copiados\n",
    "\n",
    "extrair_arquivos_especificos_de_pasta_zip(pasta_zipada, caminhos_arquivos, pasta_destino)"
   ]
  },
  {
   "cell_type": "code",
   "execution_count": 7,
   "metadata": {},
   "outputs": [
    {
     "name": "stderr",
     "output_type": "stream",
     "text": [
      "C:\\Users\\Elke\\AppData\\Local\\Temp\\ipykernel_2796\\1615065794.py:1: DtypeWarning: Columns (91,107,108,112,114,115,117,119) have mixed types. Specify dtype option on import or set low_memory=False.\n",
      "  df_SIM_2018 = pd.read_csv('SIM_DOFET_2018_ate_2020\\ETLSIM.DOFET_2018_t.csv', sep=',')\n",
      "C:\\Users\\Elke\\AppData\\Local\\Temp\\ipykernel_2796\\1615065794.py:2: DtypeWarning: Columns (90) have mixed types. Specify dtype option on import or set low_memory=False.\n",
      "  df_SIM_2019 = pd.read_csv('SIM_DOFET_2018_ate_2020\\ETLSIM.DOFET_2019_t.csv', sep=',')\n",
      "C:\\Users\\Elke\\AppData\\Local\\Temp\\ipykernel_2796\\1615065794.py:3: DtypeWarning: Columns (89,105,106,109,110,112,113,115,116,117) have mixed types. Specify dtype option on import or set low_memory=False.\n",
      "  df_SIM_2020 = pd.read_csv('SIM_DOFET_2018_ate_2020\\ETLSIM.DOFET_2020_t.csv', sep=',')\n"
     ]
    }
   ],
   "source": [
    "df_SIM_2018 = pd.read_csv('SIM_DOFET_2018_ate_2020\\ETLSIM.DOFET_2018_t.csv', sep=',')\n",
    "df_SIM_2019 = pd.read_csv('SIM_DOFET_2018_ate_2020\\ETLSIM.DOFET_2019_t.csv', sep=',')\n",
    "df_SIM_2020 = pd.read_csv('SIM_DOFET_2018_ate_2020\\ETLSIM.DOFET_2020_t.csv', sep=',')"
   ]
  },
  {
   "cell_type": "markdown",
   "metadata": {},
   "source": [
    "# 2.Análise e Processamento dos DataFrames"
   ]
  },
  {
   "cell_type": "code",
   "execution_count": 8,
   "metadata": {},
   "outputs": [],
   "source": [
    "lista_colunas_df_SIM_2018 = list(df_SIM_2018.columns)\n",
    "lista_colunas_df_SIM_2019 = list(df_SIM_2019.columns)\n",
    "lista_colunas_df_SIM_2020 = list(df_SIM_2020.columns)"
   ]
  },
  {
   "cell_type": "code",
   "execution_count": 9,
   "metadata": {},
   "outputs": [
    {
     "name": "stdout",
     "output_type": "stream",
     "text": [
      "SIM_DOFET_2018_ate_2020\\ETLSIM.DOFET_2018_t.csv\n",
      "SIM_DOFET_2018_ate_2020\\ETLSIM.DOFET_2019_t.csv\n",
      "SIM_DOFET_2018_ate_2020\\ETLSIM.DOFET_2020_t.csv\n"
     ]
    }
   ],
   "source": [
    "pasta = 'SIM_DOFET_2018_ate_2020'  # Caminho da pasta\n",
    "\n",
    "# Verifica se o caminho da pasta é válido\n",
    "if os.path.exists(pasta):\n",
    "    # Inicializa uma lista para armazenar os caminhos relativos\n",
    "    caminhos_relativos = []\n",
    "\n",
    "    # Obtém a lista de arquivos na pasta\n",
    "    arquivos = os.listdir(pasta)\n",
    "\n",
    "    # Itera sobre os arquivos e obtem os caminhos relativos\n",
    "    for arquivo in arquivos:\n",
    "        caminho_relativo = os.path.join(pasta, arquivo)\n",
    "        caminhos_relativos.append(caminho_relativo)\n",
    "\n",
    "    # A lista de caminhos relativos esta pronta\n",
    "    for caminho in caminhos_relativos:\n",
    "        print(caminho)\n",
    "else:\n",
    "    print(\"O caminho da pasta não é válido.\")"
   ]
  },
  {
   "cell_type": "code",
   "execution_count": 10,
   "metadata": {},
   "outputs": [
    {
     "name": "stdout",
     "output_type": "stream",
     "text": [
      "As seguintes colunas contêm apenas NaN:\n",
      "Index(['CODMUNCART', 'NUMREGCART', 'CODCART', 'DTREGCART', 'DTNASC', 'IDADE',\n",
      "       'ESC', 'ESC2010', 'SERIESCFAL', 'OCUP', 'ESTABDESCR', 'CB_PRE',\n",
      "       'MEDICO', 'ACIDTRAB', 'LINHAA_O', 'LINHAB_O', 'LINHAC_O', 'LINHAD_O',\n",
      "       'LINHAII_O', 'DTRECORIG', 'CAUSAMAT', 'ESCFALAGR1', 'NUDIASOBIN',\n",
      "       'DTCADINV', 'TPOBITOCOR', 'DTCONINV', 'NUDIASINF', 'FONTESINF',\n",
      "       'def_escol', 'def_acid_trab', 'data_nasc', 'dia_semana_nasc',\n",
      "       'ano_nasc'],\n",
      "      dtype='object')\n"
     ]
    }
   ],
   "source": [
    "# Verifica se alguma coluna contém apenas NaN\n",
    "columns_nan = df_SIM_2018.columns[df_SIM_2018.isna().all()]\n",
    "\n",
    "if not columns_nan.empty:\n",
    "    print(\"As seguintes colunas contêm apenas NaN:\")\n",
    "    print(columns_nan)\n",
    "else:\n",
    "    print(\"Não há colunas que contenham apenas NaN.\")"
   ]
  },
  {
   "cell_type": "code",
   "execution_count": 11,
   "metadata": {},
   "outputs": [],
   "source": [
    "#Retirando colunas que contém apenas nan dos dfs\n",
    "df_SIM_2018_sem_colunas_nan = df_SIM_2018.dropna(axis=1, how='all')\n",
    "df_SIM_2019_sem_colunas_nan = df_SIM_2019.dropna(axis=1, how='all')\n",
    "df_SIM_2020_sem_colunas_nan = df_SIM_2020.dropna(axis=1, how='all')"
   ]
  },
  {
   "cell_type": "code",
   "execution_count": 12,
   "metadata": {},
   "outputs": [],
   "source": [
    "df_SIM_2018_sem_colunas_e_linhas_nan = df_SIM_2018_sem_colunas_nan.dropna(axis=0, how='all')\n",
    "df_SIM_2019_sem_colunas_e_linhas_nan = df_SIM_2019_sem_colunas_nan.dropna(axis=0, how='all')\n",
    "df_SIM_2020_sem_colunas_e_linhas_nan = df_SIM_2020_sem_colunas_nan.dropna(axis=0, how='all')"
   ]
  },
  {
   "cell_type": "markdown",
   "metadata": {},
   "source": [
    "### Verificar elementos comuns e diferentes nos dfs pode auxiliar na remoção futura de colunas"
   ]
  },
  {
   "cell_type": "code",
   "execution_count": 14,
   "metadata": {},
   "outputs": [
    {
     "name": "stdout",
     "output_type": "stream",
     "text": [
      "Elementos comuns: ['ocor_RSAUDCOD', 'res_REGIAO', 'ocor_coordenadas', 'def_gestacao', 'def_semana_ano_epi', 'def_assist_med', 'ocor_MSAUDCOD', 'def_sexo', 'QTDFILMORT', 'res_CAPITAL', 'OCUPMAE', 'ocor_LONGITUDE', 'NUDIASOBCO', 'ASSISTMED', 'LINHAD', 'TIPOBITO', 'causabas_categoria', 'RACACOR', 'res_AMAZONIA', 'ano_obito', 'res_AREA', 'ORIGEM', 'LINHAII', 'ocor_MUNNOMEX', 'CIRCOBITO', 'res_SIGLA_UF', 'STDOEPIDEM', 'res_LONGITUDE', 'causabas_capitulo', 'NATURAL', 'ATESTANTE', 'SEXO', 'causabas_subcategoria', 'ESCMAE2010', 'STDONOVA', 'DTCONCASO', 'res_MUNNOME', 'GRAVIDEZ', 'TPRESGINFO', 'def_escol_mae', 'FONTE', 'DIFDATA', 'res_CSAUDCOD', 'def_ano_epi', 'res_codigo_adotado', 'ESCMAE', 'OBITOPARTO', 'VERSAOSCB', 'ocor_LATITUDE', 'ALTCAUSA', 'DTCADINF', 'ocor_ALTITUDE', 'GESTACAO', 'ocor_AMAZONIA', 'ocor_CSAUDCOD', 'TPPOS', 'res_RSAUDCOD', 'res_coordenadas', 'ocor_NOME_UF', 'IDADEMAE', 'NECROPSIA', 'def_atestante', 'ocor_SIGLA_UF', 'ocor_MUNNOME', 'def_cbo', 'CAUSABAS_O', 'def_loc_ocor', 'def_obito_parto', 'res_FRONTEIRA', 'PESO', 'LINHAB', 'ocor_AREA', 'data_obito', 'DTINVESTIG', 'ocor_CAPITAL', 'res_NOME_UF', 'STCODIFICA', 'CODMUNRES', 'CODESTAB', 'ESTCIV', 'VERSAOSIST', 'QTDFILVIVO', 'FONTEINV', 'LINHAA', 'def_num_filhos_mortos', 'def_gravidez', 'FONTES', 'DTOBITO', 'CODIFICADO', 'HORAOBITO', 'res_LATITUDE', 'PARTO', 'ocor_FRONTEIRA', 'NUMEROLOTE', 'CODMUNOCOR', 'MORTEPARTO', 'DTRECORIGA', 'CODMUNNATU', 'res_MUNNOMEX', 'COMUNSVOIM', 'ATESTADO', 'DTATESTADO', 'def_num_filhos_vivos', 'CONTADOR', 'res_MSAUDCOD', 'causabas_grupo', 'ocor_codigo_adotado', 'LOCOCOR', 'CAUSABAS', 'LINHAC', 'DTCADASTRO', 'CIRURGIA', 'dia_semana_obito', 'DTRECEBIM', 'def_parto', 'res_CODIGO_UF', 'def_semana_epi', 'ESCMAEAGR1', 'EXAME', 'SEMAGESTAC', 'TPNIVELINV', 'def_raca_cor', 'ocor_CODIGO_UF', 'ocor_REGIAO', 'res_ALTITUDE', 'def_tipo_obito', 'SERIESCMAE']\n",
      "Elementos diferentes: ['def_est_civil', 'def_circ_obito', 'def_cirurgia', 'def_exame', 'def_necropsia', 'def_escol', 'def_fonte', 'def_obito_puerp', 'def_acid_trab', 'def_obito_grav']\n"
     ]
    }
   ],
   "source": [
    "\n",
    "# Elementos em comum entre as três listas\n",
    "elementos_comuns = list(set(df_SIM_2018_sem_colunas_e_linhas_nan) & set(df_SIM_2019_sem_colunas_e_linhas_nan) & set(df_SIM_2020_sem_colunas_e_linhas_nan))\n",
    "print(\"Elementos comuns:\", elementos_comuns)\n",
    "\n",
    "# Elementos diferentes entre as três listas\n",
    "todos_elementos = set(df_SIM_2018_sem_colunas_e_linhas_nan) | set(df_SIM_2019_sem_colunas_e_linhas_nan) | set(df_SIM_2020_sem_colunas_e_linhas_nan)\n",
    "elementos_diferentes = list(todos_elementos - (set(lista_colunas_df_SIM_2018) ^ set(lista_colunas_df_SIM_2019) ^ set(lista_colunas_df_SIM_2020)))\n",
    "print(\"Elementos diferentes:\", elementos_diferentes)"
   ]
  },
  {
   "cell_type": "markdown",
   "metadata": {},
   "source": [
    "# 3. Concatenação de DataFrames"
   ]
  },
  {
   "cell_type": "code",
   "execution_count": 16,
   "metadata": {},
   "outputs": [],
   "source": [
    "def concatena_dfs(lista_dataframes, caminho_pasta_destino):\n",
    "    df_merged = lista_dataframes[0]\n",
    "\n",
    "    for i in range(1, len(lista_dataframes)):\n",
    "        df = lista_dataframes[i]\n",
    "        df_merged = pd.concat([df_merged, df], ignore_index=True)\n",
    "\n",
    "    caminho_completo = os.path.join(caminho_pasta_destino, \"SIM_DOFET_FINAL.csv\")\n",
    "    df_merged.to_csv(caminho_completo, index=False)\n",
    "\n",
    "# Exemplo de chamada da função com DataFrames\n",
    "lista_dataframes = [df_SIM_2018_sem_colunas_e_linhas_nan,df_SIM_2019_sem_colunas_e_linhas_nan,df_SIM_2020_sem_colunas_e_linhas_nan] \n",
    "caminho_pasta_destino = 'SIM_DOFET_CONCATENADA'\n",
    "\n",
    "concatena_dfs(lista_dataframes, caminho_pasta_destino)\n"
   ]
  },
  {
   "cell_type": "markdown",
   "metadata": {},
   "source": [
    "# 4. Dataframe SIM_DOFET 2018 até 2020 Final"
   ]
  },
  {
   "cell_type": "code",
   "execution_count": 17,
   "metadata": {},
   "outputs": [
    {
     "name": "stderr",
     "output_type": "stream",
     "text": [
      "C:\\Users\\Elke\\AppData\\Local\\Temp\\ipykernel_2796\\1695512358.py:1: DtypeWarning: Columns (65,79,80,83,85,86,87,88,89,144,145) have mixed types. Specify dtype option on import or set low_memory=False.\n",
      "  df_sim_dofet_final = pd.read_csv('SIM_DOFET_CONCATENADA\\SIM_DOFET_FINAL.csv', sep = ',')\n"
     ]
    }
   ],
   "source": [
    "df_sim_dofet_final = pd.read_csv('SIM_DOFET_CONCATENADA\\SIM_DOFET_FINAL.csv', sep = ',')"
   ]
  },
  {
   "cell_type": "code",
   "execution_count": 18,
   "metadata": {},
   "outputs": [
    {
     "name": "stdout",
     "output_type": "stream",
     "text": [
      "<class 'pandas.core.frame.DataFrame'>\n",
      "RangeIndex: 88788 entries, 0 to 88787\n",
      "Columns: 146 entries, ORIGEM to def_acid_trab\n",
      "dtypes: float64(49), int64(35), object(62)\n",
      "memory usage: 98.9+ MB\n"
     ]
    }
   ],
   "source": [
    "df_sim_dofet_final.info()"
   ]
  },
  {
   "cell_type": "code",
   "execution_count": 19,
   "metadata": {},
   "outputs": [
    {
     "name": "stdout",
     "output_type": "stream",
     "text": [
      "ano_obito\n",
      "2018    30690\n",
      "2019    29105\n",
      "2020    28993\n",
      "Name: count, dtype: int64\n"
     ]
    }
   ],
   "source": [
    "valores_unicos_contagens = df_sim_dofet_final['ano_obito'].value_counts()\n",
    "print(valores_unicos_contagens)"
   ]
  },
  {
   "cell_type": "code",
   "execution_count": 20,
   "metadata": {},
   "outputs": [
    {
     "name": "stdout",
     "output_type": "stream",
     "text": [
      "<class 'pandas.core.frame.DataFrame'>\n",
      "RangeIndex: 88788 entries, 0 to 88787\n",
      "Columns: 146 entries, ORIGEM to def_acid_trab\n",
      "dtypes: float64(49), int64(35), object(62)\n",
      "memory usage: 98.9+ MB\n"
     ]
    }
   ],
   "source": [
    "# Considere 'df' como seu DataFrame\n",
    "df_sem_duplicatas = df_sim_dofet_final.drop_duplicates()\n",
    "df_sem_duplicatas.info()"
   ]
  }
 ],
 "metadata": {
  "kernelspec": {
   "display_name": "virtualenv_prematuridade",
   "language": "python",
   "name": "python3"
  },
  "language_info": {
   "codemirror_mode": {
    "name": "ipython",
    "version": 3
   },
   "file_extension": ".py",
   "mimetype": "text/x-python",
   "name": "python",
   "nbconvert_exporter": "python",
   "pygments_lexer": "ipython3",
   "version": "3.11.5"
  }
 },
 "nbformat": 4,
 "nbformat_minor": 2
}
