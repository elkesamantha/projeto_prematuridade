{
 "cells": [
  {
   "cell_type": "markdown",
   "metadata": {},
   "source": [
    "# Pacotes e Bibliotecas"
   ]
  },
  {
   "cell_type": "code",
   "execution_count": null,
   "metadata": {},
   "outputs": [],
   "source": [
    "import zipfile\n",
    "import os\n",
    "import pandas as pd"
   ]
  },
  {
   "cell_type": "markdown",
   "metadata": {},
   "source": [
    "# 1. Carregando Dataframes"
   ]
  },
  {
   "cell_type": "code",
   "execution_count": 2,
   "metadata": {},
   "outputs": [
    {
     "name": "stderr",
     "output_type": "stream",
     "text": [
      "C:\\Users\\Elke\\AppData\\Local\\Temp\\ipykernel_1056\\913599141.py:1: DtypeWarning: Columns (65,79,80,83,85,86,87,88,89,144,145) have mixed types. Specify dtype option on import or set low_memory=False.\n",
      "  df_SIM_DOFET = pd.read_csv('SIM_DOFET_CONCATENADA\\SIM_DOFET_FINAL.csv', sep = ',')\n"
     ]
    }
   ],
   "source": [
    "df_SIM_DOFET = pd.read_csv('SIM_DOFET_CONCATENADA\\SIM_DOFET_FINAL.csv', sep = ',')"
   ]
  },
  {
   "cell_type": "code",
   "execution_count": 3,
   "metadata": {},
   "outputs": [
    {
     "name": "stderr",
     "output_type": "stream",
     "text": [
      "C:\\Users\\Elke\\AppData\\Local\\Temp\\ipykernel_1056\\1453612938.py:1: DtypeWarning: Columns (31) have mixed types. Specify dtype option on import or set low_memory=False.\n",
      "  df_SINASC =  pd.read_csv('SINASC_concatenada_final\\SINASC_FINAL.csv', sep = ',')\n"
     ]
    }
   ],
   "source": [
    "df_SINASC =  pd.read_csv('SINASC_concatenada_final\\SINASC_FINAL.csv', sep = ',')"
   ]
  },
  {
   "cell_type": "markdown",
   "metadata": {},
   "source": [
    "# 2. Merge do SIM-DOFET e SINASC "
   ]
  },
  {
   "cell_type": "code",
   "execution_count": 4,
   "metadata": {},
   "outputs": [],
   "source": [
    "df_SIM_SINASC_merged = pd.merge(df_SIM_DOFET, df_SINASC, how = \"outer\", indicator = True)"
   ]
  },
  {
   "cell_type": "code",
   "execution_count": 5,
   "metadata": {},
   "outputs": [
    {
     "name": "stdout",
     "output_type": "stream",
     "text": [
      "<class 'pandas.core.frame.DataFrame'>\n",
      "RangeIndex: 8613011 entries, 0 to 8613010\n",
      "Columns: 214 entries, ORIGEM to _merge\n",
      "dtypes: category(1), float64(114), int64(15), object(84)\n",
      "memory usage: 13.7+ GB\n"
     ]
    }
   ],
   "source": [
    "df_SIM_SINASC_merged.info()"
   ]
  },
  {
   "cell_type": "markdown",
   "metadata": {},
   "source": [
    "# 3. Nova Coluna para Relacionar"
   ]
  },
  {
   "cell_type": "code",
   "execution_count": 11,
   "metadata": {},
   "outputs": [],
   "source": [
    "# Criando a nova coluna que diz se nasceu ou foi obito fetal e que relaciona os dois dfs\n",
    "df_SIM_SINASC_merged['mortalidade_SIMDOFET_SINASC'] = df_SIM_SINASC_merged['def_tipo_obito'].apply(lambda x: 0 if pd.isna(x) else 1)\n"
   ]
  },
  {
   "cell_type": "code",
   "execution_count": 12,
   "metadata": {},
   "outputs": [
    {
     "name": "stdout",
     "output_type": "stream",
     "text": [
      "<class 'pandas.core.frame.DataFrame'>\n",
      "RangeIndex: 8613011 entries, 0 to 8613010\n",
      "Columns: 215 entries, ORIGEM to mortalidade_SIMDOFET_SINASC\n",
      "dtypes: category(1), float64(114), int64(16), object(84)\n",
      "memory usage: 13.7+ GB\n"
     ]
    }
   ],
   "source": [
    "df_SIM_SINASC_merged.info()"
   ]
  },
  {
   "cell_type": "markdown",
   "metadata": {},
   "source": [
    "# 4. Salvando df Final"
   ]
  },
  {
   "cell_type": "code",
   "execution_count": 18,
   "metadata": {},
   "outputs": [],
   "source": [
    "df_SIM_SINASC_merged.to_csv('df_SIM_SINASC.csv', index=False)"
   ]
  },
  {
   "cell_type": "markdown",
   "metadata": {},
   "source": [
    "#### ---...---...---...---...---...---...---...---...---XD---...---...---...---...---...---...---...---...---...---...---"
   ]
  },
  {
   "cell_type": "markdown",
   "metadata": {},
   "source": [
    "#### *** Executar apenas a célula abaixo pra carregar o df final:"
   ]
  },
  {
   "cell_type": "code",
   "execution_count": 22,
   "metadata": {},
   "outputs": [
    {
     "name": "stderr",
     "output_type": "stream",
     "text": [
      "C:\\Users\\Elke\\AppData\\Local\\Temp\\ipykernel_5272\\3347971657.py:8: DtypeWarning: Columns (33,34,35,36,37,38,45,47,50,51,56,63,65,71,74,78,79,80,81,82,83,85,86,87,88,89,90,91,105,106,107,108,109,121,123,124,125,131,133,134,135,136,137,138,144,145,156,158,182,183,184,185,186,187,188,189,198,200,201,202,203,206,207,208,209,210,211,212) have mixed types. Specify dtype option on import or set low_memory=False.\n",
      "  df_SIMDOFET_SINASC = pd.read_csv(caminho_df, sep = ',', nrows= nrows, index_col = index_col)\n"
     ]
    }
   ],
   "source": [
    "import pandas as pd\n",
    "caminho_df = 'df_SIMDOFET_SINASC.csv' #Substitua pelo caminho do df\n",
    "\n",
    "#uteis para não carregar o df inteiro. so adicionar como parâmetro.\n",
    "nrows = 1000000 # quantas linhas do dataset quer carregar\n",
    "index_col = 214 # qual coluna quer carregar pelo indice\n",
    "\n",
    "df_SIMDOFET_SINASC = pd.read_csv(caminho_df, sep = ',', nrows= nrows, index_col = index_col)"
   ]
  },
  {
   "cell_type": "code",
   "execution_count": 17,
   "metadata": {},
   "outputs": [],
   "source": [
    "#limpa variáveis do notebook\n",
    "\n",
    "#%reset -f"
   ]
  }
 ],
 "metadata": {
  "kernelspec": {
   "display_name": "amb_virt_prematuridade",
   "language": "python",
   "name": "python3"
  },
  "language_info": {
   "codemirror_mode": {
    "name": "ipython",
    "version": 3
   },
   "file_extension": ".py",
   "mimetype": "text/x-python",
   "name": "python",
   "nbconvert_exporter": "python",
   "pygments_lexer": "ipython3",
   "version": "3.11.5"
  }
 },
 "nbformat": 4,
 "nbformat_minor": 2
}
