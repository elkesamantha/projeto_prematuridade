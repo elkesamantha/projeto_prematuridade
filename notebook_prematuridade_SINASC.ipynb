{
 "cells": [
  {
   "cell_type": "code",
   "execution_count": 14,
   "metadata": {},
   "outputs": [],
   "source": [
    "import zipfile\n",
    "import os\n",
    "import pandas as pd"
   ]
  },
  {
   "cell_type": "markdown",
   "id": "d5f841d9",
   "metadata": {},
   "source": [
    "# 1.Extração de Arquivos Específicos do ZIP - 2018 até 2020"
   ]
  },
  {
   "cell_type": "code",
   "execution_count": 15,
   "id": "7d630a45",
   "metadata": {},
   "outputs": [],
   "source": [
    "#Nome do arquivo ZIP\n",
    "nome_arquivo_zip = 'ETLSINASC.zip'\n",
    "\n",
    "#Abre o arquivo ZIP\n",
    "with zipfile.ZipFile(nome_arquivo_zip, 'r') as zip_ref:\n",
    "    #Obtem uma lista de nomes de arquivos dentro do ZIP\n",
    "    nomes_arquivos = zip_ref.namelist()\n"
   ]
  },
  {
   "cell_type": "code",
   "execution_count": 16,
   "id": "c524d90d",
   "metadata": {},
   "outputs": [
    {
     "name": "stdout",
     "output_type": "stream",
     "text": [
      "['ETLSINASC.DNRES_AC_1996_t.csv', 'ETLSINASC.DNRES_AC_1997_t.csv', 'ETLSINASC.DNRES_AC_1998_t.csv', 'ETLSINASC.DNRES_AC_1999_t.csv', 'ETLSINASC.DNRES_AC_2000_t.csv', 'ETLSINASC.DNRES_AC_2001_t.csv', 'ETLSINASC.DNRES_AC_2002_t.csv', 'ETLSINASC.DNRES_AC_2003_t.csv', 'ETLSINASC.DNRES_AC_2004_t.csv', 'ETLSINASC.DNRES_AC_2005_t.csv', 'ETLSINASC.DNRES_AC_2006_t.csv', 'ETLSINASC.DNRES_AC_2007_t.csv', 'ETLSINASC.DNRES_AC_2008_t.csv', 'ETLSINASC.DNRES_AC_2009_t.csv', 'ETLSINASC.DNRES_AC_2010_t.csv', 'ETLSINASC.DNRES_AC_2011_t.csv', 'ETLSINASC.DNRES_AC_2012_t.csv', 'ETLSINASC.DNRES_AC_2013_t.csv', 'ETLSINASC.DNRES_AC_2014_t.csv', 'ETLSINASC.DNRES_AC_2015_t.csv', 'ETLSINASC.DNRES_AC_2016_t.csv', 'ETLSINASC.DNRES_AC_2017_t.csv', 'ETLSINASC.DNRES_AC_2018_t.csv', 'ETLSINASC.DNRES_AC_2019_t.csv', 'ETLSINASC.DNRES_AL_1996_t.csv', 'ETLSINASC.DNRES_AL_1997_t.csv', 'ETLSINASC.DNRES_AL_1998_t.csv', 'ETLSINASC.DNRES_AL_1999_t.csv', 'ETLSINASC.DNRES_AL_2000_t.csv', 'ETLSINASC.DNRES_AL_2001_t.csv', 'ETLSINASC.DNRES_AL_2002_t.csv', 'ETLSINASC.DNRES_AL_2003_t.csv', 'ETLSINASC.DNRES_AL_2004_t.csv', 'ETLSINASC.DNRES_AL_2005_t.csv', 'ETLSINASC.DNRES_AL_2006_t.csv', 'ETLSINASC.DNRES_AL_2007_t.csv', 'ETLSINASC.DNRES_AL_2008_t.csv', 'ETLSINASC.DNRES_AL_2009_t.csv', 'ETLSINASC.DNRES_AL_2010_t.csv', 'ETLSINASC.DNRES_AL_2011_t.csv', 'ETLSINASC.DNRES_AL_2012_t.csv', 'ETLSINASC.DNRES_AL_2013_t.csv', 'ETLSINASC.DNRES_AL_2014_t.csv', 'ETLSINASC.DNRES_AL_2015_t.csv', 'ETLSINASC.DNRES_AL_2016_t.csv', 'ETLSINASC.DNRES_AL_2017_t.csv', 'ETLSINASC.DNRES_AL_2018_t.csv', 'ETLSINASC.DNRES_AL_2019_t.csv', 'ETLSINASC.DNRES_AM_1996_t.csv', 'ETLSINASC.DNRES_AM_1997_t.csv', 'ETLSINASC.DNRES_AM_1998_t.csv', 'ETLSINASC.DNRES_AM_1999_t.csv', 'ETLSINASC.DNRES_AM_2000_t.csv', 'ETLSINASC.DNRES_AM_2001_t.csv', 'ETLSINASC.DNRES_AM_2002_t.csv', 'ETLSINASC.DNRES_AM_2003_t.csv', 'ETLSINASC.DNRES_AM_2004_t.csv', 'ETLSINASC.DNRES_AM_2005_t.csv', 'ETLSINASC.DNRES_AM_2006_t.csv', 'ETLSINASC.DNRES_AM_2007_t.csv', 'ETLSINASC.DNRES_AM_2008_t.csv', 'ETLSINASC.DNRES_AM_2009_t.csv', 'ETLSINASC.DNRES_AM_2010_t.csv', 'ETLSINASC.DNRES_AM_2011_t.csv', 'ETLSINASC.DNRES_AM_2012_t.csv', 'ETLSINASC.DNRES_AM_2013_t.csv', 'ETLSINASC.DNRES_AM_2014_t.csv', 'ETLSINASC.DNRES_AM_2015_t.csv', 'ETLSINASC.DNRES_AM_2016_t.csv', 'ETLSINASC.DNRES_AM_2017_t.csv', 'ETLSINASC.DNRES_AM_2018_t.csv', 'ETLSINASC.DNRES_AM_2019_t.csv', 'ETLSINASC.DNRES_AP_1996_t.csv', 'ETLSINASC.DNRES_AP_1997_t.csv', 'ETLSINASC.DNRES_AP_1998_t.csv', 'ETLSINASC.DNRES_AP_1999_t.csv', 'ETLSINASC.DNRES_AP_2000_t.csv', 'ETLSINASC.DNRES_AP_2001_t.csv', 'ETLSINASC.DNRES_AP_2002_t.csv', 'ETLSINASC.DNRES_AP_2003_t.csv', 'ETLSINASC.DNRES_AP_2004_t.csv', 'ETLSINASC.DNRES_AP_2005_t.csv', 'ETLSINASC.DNRES_AP_2006_t.csv', 'ETLSINASC.DNRES_AP_2007_t.csv', 'ETLSINASC.DNRES_AP_2008_t.csv', 'ETLSINASC.DNRES_AP_2009_t.csv', 'ETLSINASC.DNRES_AP_2010_t.csv', 'ETLSINASC.DNRES_AP_2011_t.csv', 'ETLSINASC.DNRES_AP_2012_t.csv', 'ETLSINASC.DNRES_AP_2013_t.csv', 'ETLSINASC.DNRES_AP_2014_t.csv', 'ETLSINASC.DNRES_AP_2015_t.csv', 'ETLSINASC.DNRES_AP_2016_t.csv', 'ETLSINASC.DNRES_AP_2017_t.csv', 'ETLSINASC.DNRES_AP_2018_t.csv', 'ETLSINASC.DNRES_AP_2019_t.csv', 'ETLSINASC.DNRES_BA_1996_t.csv', 'ETLSINASC.DNRES_BA_1997_t.csv', 'ETLSINASC.DNRES_BA_1998_t.csv', 'ETLSINASC.DNRES_BA_1999_t.csv', 'ETLSINASC.DNRES_BA_2000_t.csv', 'ETLSINASC.DNRES_BA_2001_t.csv', 'ETLSINASC.DNRES_BA_2002_t.csv', 'ETLSINASC.DNRES_BA_2003_t.csv', 'ETLSINASC.DNRES_BA_2004_t.csv', 'ETLSINASC.DNRES_BA_2005_t.csv', 'ETLSINASC.DNRES_BA_2006_t.csv', 'ETLSINASC.DNRES_BA_2007_t.csv', 'ETLSINASC.DNRES_BA_2008_t.csv', 'ETLSINASC.DNRES_BA_2009_t.csv', 'ETLSINASC.DNRES_BA_2010_t.csv', 'ETLSINASC.DNRES_BA_2011_t.csv', 'ETLSINASC.DNRES_BA_2012_t.csv', 'ETLSINASC.DNRES_BA_2013_t.csv', 'ETLSINASC.DNRES_BA_2014_t.csv', 'ETLSINASC.DNRES_BA_2015_t.csv', 'ETLSINASC.DNRES_BA_2016_t.csv', 'ETLSINASC.DNRES_BA_2017_t.csv', 'ETLSINASC.DNRES_BA_2018_t.csv', 'ETLSINASC.DNRES_BA_2019_t.csv', 'ETLSINASC.DNRES_CE_1996_t.csv', 'ETLSINASC.DNRES_CE_1997_t.csv', 'ETLSINASC.DNRES_CE_1998_t.csv', 'ETLSINASC.DNRES_CE_1999_t.csv', 'ETLSINASC.DNRES_CE_2000_t.csv', 'ETLSINASC.DNRES_CE_2001_t.csv', 'ETLSINASC.DNRES_CE_2002_t.csv', 'ETLSINASC.DNRES_CE_2003_t.csv', 'ETLSINASC.DNRES_CE_2004_t.csv', 'ETLSINASC.DNRES_CE_2005_t.csv', 'ETLSINASC.DNRES_CE_2006_t.csv', 'ETLSINASC.DNRES_CE_2007_t.csv', 'ETLSINASC.DNRES_CE_2008_t.csv', 'ETLSINASC.DNRES_CE_2009_t.csv', 'ETLSINASC.DNRES_CE_2010_t.csv', 'ETLSINASC.DNRES_CE_2011_t.csv', 'ETLSINASC.DNRES_CE_2012_t.csv', 'ETLSINASC.DNRES_CE_2013_t.csv', 'ETLSINASC.DNRES_CE_2014_t.csv', 'ETLSINASC.DNRES_CE_2015_t.csv', 'ETLSINASC.DNRES_CE_2016_t.csv', 'ETLSINASC.DNRES_CE_2017_t.csv', 'ETLSINASC.DNRES_CE_2018_t.csv', 'ETLSINASC.DNRES_CE_2019_t.csv', 'ETLSINASC.DNRES_DF_1996_t.csv', 'ETLSINASC.DNRES_DF_1997_t.csv', 'ETLSINASC.DNRES_DF_1998_t.csv', 'ETLSINASC.DNRES_DF_1999_t.csv', 'ETLSINASC.DNRES_DF_2000_t.csv', 'ETLSINASC.DNRES_DF_2001_t.csv', 'ETLSINASC.DNRES_DF_2002_t.csv', 'ETLSINASC.DNRES_DF_2003_t.csv', 'ETLSINASC.DNRES_DF_2004_t.csv', 'ETLSINASC.DNRES_DF_2005_t.csv', 'ETLSINASC.DNRES_DF_2006_t.csv', 'ETLSINASC.DNRES_DF_2007_t.csv', 'ETLSINASC.DNRES_DF_2008_t.csv', 'ETLSINASC.DNRES_DF_2009_t.csv', 'ETLSINASC.DNRES_DF_2010_t.csv', 'ETLSINASC.DNRES_DF_2011_t.csv', 'ETLSINASC.DNRES_DF_2012_t.csv', 'ETLSINASC.DNRES_DF_2013_t.csv', 'ETLSINASC.DNRES_DF_2014_t.csv', 'ETLSINASC.DNRES_DF_2015_t.csv', 'ETLSINASC.DNRES_DF_2016_t.csv', 'ETLSINASC.DNRES_DF_2017_t.csv', 'ETLSINASC.DNRES_DF_2018_t.csv', 'ETLSINASC.DNRES_DF_2019_t.csv', 'ETLSINASC.DNRES_ES_1996_t.csv', 'ETLSINASC.DNRES_ES_1997_t.csv', 'ETLSINASC.DNRES_ES_1998_t.csv', 'ETLSINASC.DNRES_ES_1999_t.csv', 'ETLSINASC.DNRES_ES_2000_t.csv', 'ETLSINASC.DNRES_ES_2001_t.csv', 'ETLSINASC.DNRES_ES_2002_t.csv', 'ETLSINASC.DNRES_ES_2003_t.csv', 'ETLSINASC.DNRES_ES_2004_t.csv', 'ETLSINASC.DNRES_ES_2005_t.csv', 'ETLSINASC.DNRES_ES_2006_t.csv', 'ETLSINASC.DNRES_ES_2007_t.csv', 'ETLSINASC.DNRES_ES_2008_t.csv', 'ETLSINASC.DNRES_ES_2009_t.csv', 'ETLSINASC.DNRES_ES_2010_t.csv', 'ETLSINASC.DNRES_ES_2011_t.csv', 'ETLSINASC.DNRES_ES_2012_t.csv', 'ETLSINASC.DNRES_ES_2013_t.csv', 'ETLSINASC.DNRES_ES_2014_t.csv', 'ETLSINASC.DNRES_ES_2015_t.csv', 'ETLSINASC.DNRES_ES_2016_t.csv', 'ETLSINASC.DNRES_ES_2017_t.csv', 'ETLSINASC.DNRES_ES_2018_t.csv', 'ETLSINASC.DNRES_ES_2019_t.csv', 'ETLSINASC.DNRES_GO_1996_t.csv', 'ETLSINASC.DNRES_GO_1997_t.csv', 'ETLSINASC.DNRES_GO_1998_t.csv', 'ETLSINASC.DNRES_GO_1999_t.csv', 'ETLSINASC.DNRES_GO_2000_t.csv', 'ETLSINASC.DNRES_GO_2001_t.csv', 'ETLSINASC.DNRES_GO_2002_t.csv', 'ETLSINASC.DNRES_GO_2003_t.csv', 'ETLSINASC.DNRES_GO_2004_t.csv', 'ETLSINASC.DNRES_GO_2005_t.csv', 'ETLSINASC.DNRES_GO_2006_t.csv', 'ETLSINASC.DNRES_GO_2007_t.csv', 'ETLSINASC.DNRES_GO_2008_t.csv', 'ETLSINASC.DNRES_GO_2009_t.csv', 'ETLSINASC.DNRES_GO_2010_t.csv', 'ETLSINASC.DNRES_GO_2011_t.csv', 'ETLSINASC.DNRES_GO_2012_t.csv', 'ETLSINASC.DNRES_GO_2013_t.csv', 'ETLSINASC.DNRES_GO_2014_t.csv', 'ETLSINASC.DNRES_GO_2015_t.csv', 'ETLSINASC.DNRES_GO_2016_t.csv', 'ETLSINASC.DNRES_GO_2017_t.csv', 'ETLSINASC.DNRES_GO_2018_t.csv', 'ETLSINASC.DNRES_GO_2019_t.csv', 'ETLSINASC.DNRES_MA_1996_t.csv', 'ETLSINASC.DNRES_MA_1997_t.csv', 'ETLSINASC.DNRES_MA_1998_t.csv', 'ETLSINASC.DNRES_MA_1999_t.csv', 'ETLSINASC.DNRES_MA_2000_t.csv', 'ETLSINASC.DNRES_MA_2001_t.csv', 'ETLSINASC.DNRES_MA_2002_t.csv', 'ETLSINASC.DNRES_MA_2003_t.csv', 'ETLSINASC.DNRES_MA_2004_t.csv', 'ETLSINASC.DNRES_MA_2005_t.csv', 'ETLSINASC.DNRES_MA_2006_t.csv', 'ETLSINASC.DNRES_MA_2007_t.csv', 'ETLSINASC.DNRES_MA_2008_t.csv', 'ETLSINASC.DNRES_MA_2009_t.csv', 'ETLSINASC.DNRES_MA_2010_t.csv', 'ETLSINASC.DNRES_MA_2011_t.csv', 'ETLSINASC.DNRES_MA_2012_t.csv', 'ETLSINASC.DNRES_MA_2013_t.csv', 'ETLSINASC.DNRES_MA_2014_t.csv', 'ETLSINASC.DNRES_MA_2015_t.csv', 'ETLSINASC.DNRES_MA_2016_t.csv', 'ETLSINASC.DNRES_MA_2017_t.csv', 'ETLSINASC.DNRES_MA_2018_t.csv', 'ETLSINASC.DNRES_MA_2019_t.csv', 'ETLSINASC.DNRES_MG_1996_t.csv', 'ETLSINASC.DNRES_MG_1997_t.csv', 'ETLSINASC.DNRES_MG_1998_t.csv', 'ETLSINASC.DNRES_MG_1999_t.csv', 'ETLSINASC.DNRES_MG_2000_t.csv', 'ETLSINASC.DNRES_MG_2001_t.csv', 'ETLSINASC.DNRES_MG_2002_t.csv', 'ETLSINASC.DNRES_MG_2003_t.csv', 'ETLSINASC.DNRES_MG_2004_t.csv', 'ETLSINASC.DNRES_MG_2005_t.csv', 'ETLSINASC.DNRES_MG_2006_t.csv', 'ETLSINASC.DNRES_MG_2007_t.csv', 'ETLSINASC.DNRES_MG_2008_t.csv', 'ETLSINASC.DNRES_MG_2009_t.csv', 'ETLSINASC.DNRES_MG_2010_t.csv', 'ETLSINASC.DNRES_MG_2011_t.csv', 'ETLSINASC.DNRES_MG_2012_t.csv', 'ETLSINASC.DNRES_MG_2013_t.csv', 'ETLSINASC.DNRES_MG_2014_t.csv', 'ETLSINASC.DNRES_MG_2015_t.csv', 'ETLSINASC.DNRES_MG_2016_t.csv', 'ETLSINASC.DNRES_MG_2017_t.csv', 'ETLSINASC.DNRES_MG_2018_t.csv', 'ETLSINASC.DNRES_MG_2019_t.csv', 'ETLSINASC.DNRES_MS_1996_t.csv', 'ETLSINASC.DNRES_MS_1997_t.csv', 'ETLSINASC.DNRES_MS_1998_t.csv', 'ETLSINASC.DNRES_MS_1999_t.csv', 'ETLSINASC.DNRES_MS_2000_t.csv', 'ETLSINASC.DNRES_MS_2001_t.csv', 'ETLSINASC.DNRES_MS_2002_t.csv', 'ETLSINASC.DNRES_MS_2003_t.csv', 'ETLSINASC.DNRES_MS_2004_t.csv', 'ETLSINASC.DNRES_MS_2005_t.csv', 'ETLSINASC.DNRES_MS_2006_t.csv', 'ETLSINASC.DNRES_MS_2007_t.csv', 'ETLSINASC.DNRES_MS_2008_t.csv', 'ETLSINASC.DNRES_MS_2009_t.csv', 'ETLSINASC.DNRES_MS_2010_t.csv', 'ETLSINASC.DNRES_MS_2011_t.csv', 'ETLSINASC.DNRES_MS_2012_t.csv', 'ETLSINASC.DNRES_MS_2013_t.csv', 'ETLSINASC.DNRES_MS_2014_t.csv', 'ETLSINASC.DNRES_MS_2015_t.csv', 'ETLSINASC.DNRES_MS_2016_t.csv', 'ETLSINASC.DNRES_MS_2017_t.csv', 'ETLSINASC.DNRES_MS_2018_t.csv', 'ETLSINASC.DNRES_MS_2019_t.csv', 'ETLSINASC.DNRES_MT_1996_t.csv', 'ETLSINASC.DNRES_MT_1997_t.csv', 'ETLSINASC.DNRES_MT_1998_t.csv', 'ETLSINASC.DNRES_MT_1999_t.csv', 'ETLSINASC.DNRES_MT_2000_t.csv', 'ETLSINASC.DNRES_MT_2001_t.csv', 'ETLSINASC.DNRES_MT_2002_t.csv', 'ETLSINASC.DNRES_MT_2003_t.csv', 'ETLSINASC.DNRES_MT_2004_t.csv', 'ETLSINASC.DNRES_MT_2005_t.csv', 'ETLSINASC.DNRES_MT_2006_t.csv', 'ETLSINASC.DNRES_MT_2007_t.csv', 'ETLSINASC.DNRES_MT_2008_t.csv', 'ETLSINASC.DNRES_MT_2009_t.csv', 'ETLSINASC.DNRES_MT_2010_t.csv', 'ETLSINASC.DNRES_MT_2011_t.csv', 'ETLSINASC.DNRES_MT_2012_t.csv', 'ETLSINASC.DNRES_MT_2013_t.csv', 'ETLSINASC.DNRES_MT_2014_t.csv', 'ETLSINASC.DNRES_MT_2015_t.csv', 'ETLSINASC.DNRES_MT_2016_t.csv', 'ETLSINASC.DNRES_MT_2017_t.csv', 'ETLSINASC.DNRES_MT_2018_t.csv', 'ETLSINASC.DNRES_MT_2019_t.csv', 'ETLSINASC.DNRES_PA_1996_t.csv', 'ETLSINASC.DNRES_PA_1997_t.csv', 'ETLSINASC.DNRES_PA_1998_t.csv', 'ETLSINASC.DNRES_PA_1999_t.csv', 'ETLSINASC.DNRES_PA_2000_t.csv', 'ETLSINASC.DNRES_PA_2001_t.csv', 'ETLSINASC.DNRES_PA_2002_t.csv', 'ETLSINASC.DNRES_PA_2003_t.csv', 'ETLSINASC.DNRES_PA_2004_t.csv', 'ETLSINASC.DNRES_PA_2005_t.csv', 'ETLSINASC.DNRES_PA_2006_t.csv', 'ETLSINASC.DNRES_PA_2007_t.csv', 'ETLSINASC.DNRES_PA_2008_t.csv', 'ETLSINASC.DNRES_PA_2009_t.csv', 'ETLSINASC.DNRES_PA_2010_t.csv', 'ETLSINASC.DNRES_PA_2011_t.csv', 'ETLSINASC.DNRES_PA_2012_t.csv', 'ETLSINASC.DNRES_PA_2013_t.csv', 'ETLSINASC.DNRES_PA_2014_t.csv', 'ETLSINASC.DNRES_PA_2015_t.csv', 'ETLSINASC.DNRES_PA_2016_t.csv', 'ETLSINASC.DNRES_PA_2017_t.csv', 'ETLSINASC.DNRES_PA_2018_t.csv', 'ETLSINASC.DNRES_PA_2019_t.csv', 'ETLSINASC.DNRES_PB_1996_t.csv', 'ETLSINASC.DNRES_PB_1997_t.csv', 'ETLSINASC.DNRES_PB_1998_t.csv', 'ETLSINASC.DNRES_PB_1999_t.csv', 'ETLSINASC.DNRES_PB_2000_t.csv', 'ETLSINASC.DNRES_PB_2001_t.csv', 'ETLSINASC.DNRES_PB_2002_t.csv', 'ETLSINASC.DNRES_PB_2003_t.csv', 'ETLSINASC.DNRES_PB_2004_t.csv', 'ETLSINASC.DNRES_PB_2005_t.csv', 'ETLSINASC.DNRES_PB_2006_t.csv', 'ETLSINASC.DNRES_PB_2007_t.csv', 'ETLSINASC.DNRES_PB_2008_t.csv', 'ETLSINASC.DNRES_PB_2009_t.csv', 'ETLSINASC.DNRES_PB_2010_t.csv', 'ETLSINASC.DNRES_PB_2011_t.csv', 'ETLSINASC.DNRES_PB_2012_t.csv', 'ETLSINASC.DNRES_PB_2013_t.csv', 'ETLSINASC.DNRES_PB_2014_t.csv', 'ETLSINASC.DNRES_PB_2015_t.csv', 'ETLSINASC.DNRES_PB_2016_t.csv', 'ETLSINASC.DNRES_PB_2017_t.csv', 'ETLSINASC.DNRES_PB_2018_t.csv', 'ETLSINASC.DNRES_PB_2019_t.csv', 'ETLSINASC.DNRES_PE_1996_t.csv', 'ETLSINASC.DNRES_PE_1997_t.csv', 'ETLSINASC.DNRES_PE_1998_t.csv', 'ETLSINASC.DNRES_PE_1999_t.csv', 'ETLSINASC.DNRES_PE_2000_t.csv', 'ETLSINASC.DNRES_PE_2001_t.csv', 'ETLSINASC.DNRES_PE_2002_t.csv', 'ETLSINASC.DNRES_PE_2003_t.csv', 'ETLSINASC.DNRES_PE_2004_t.csv', 'ETLSINASC.DNRES_PE_2005_t.csv', 'ETLSINASC.DNRES_PE_2006_t.csv', 'ETLSINASC.DNRES_PE_2007_t.csv', 'ETLSINASC.DNRES_PE_2008_t.csv', 'ETLSINASC.DNRES_PE_2009_t.csv', 'ETLSINASC.DNRES_PE_2010_t.csv', 'ETLSINASC.DNRES_PE_2011_t.csv', 'ETLSINASC.DNRES_PE_2012_t.csv', 'ETLSINASC.DNRES_PE_2013_t.csv', 'ETLSINASC.DNRES_PE_2014_t.csv', 'ETLSINASC.DNRES_PE_2015_t.csv', 'ETLSINASC.DNRES_PE_2016_t.csv', 'ETLSINASC.DNRES_PE_2017_t.csv', 'ETLSINASC.DNRES_PE_2018_t.csv', 'ETLSINASC.DNRES_PE_2019_t.csv', 'ETLSINASC.DNRES_PI_1996_t.csv', 'ETLSINASC.DNRES_PI_1997_t.csv', 'ETLSINASC.DNRES_PI_1998_t.csv', 'ETLSINASC.DNRES_PI_1999_t.csv', 'ETLSINASC.DNRES_PI_2000_t.csv', 'ETLSINASC.DNRES_PI_2001_t.csv', 'ETLSINASC.DNRES_PI_2002_t.csv', 'ETLSINASC.DNRES_PI_2003_t.csv', 'ETLSINASC.DNRES_PI_2004_t.csv', 'ETLSINASC.DNRES_PI_2005_t.csv', 'ETLSINASC.DNRES_PI_2006_t.csv', 'ETLSINASC.DNRES_PI_2007_t.csv', 'ETLSINASC.DNRES_PI_2008_t.csv', 'ETLSINASC.DNRES_PI_2009_t.csv', 'ETLSINASC.DNRES_PI_2010_t.csv', 'ETLSINASC.DNRES_PI_2011_t.csv', 'ETLSINASC.DNRES_PI_2012_t.csv', 'ETLSINASC.DNRES_PI_2013_t.csv', 'ETLSINASC.DNRES_PI_2014_t.csv', 'ETLSINASC.DNRES_PI_2015_t.csv', 'ETLSINASC.DNRES_PI_2016_t.csv', 'ETLSINASC.DNRES_PI_2017_t.csv', 'ETLSINASC.DNRES_PI_2018_t.csv', 'ETLSINASC.DNRES_PI_2019_t.csv', 'ETLSINASC.DNRES_PR_1996_t.csv', 'ETLSINASC.DNRES_PR_1997_t.csv', 'ETLSINASC.DNRES_PR_1998_t.csv', 'ETLSINASC.DNRES_PR_1999_t.csv', 'ETLSINASC.DNRES_PR_2000_t.csv', 'ETLSINASC.DNRES_PR_2001_t.csv', 'ETLSINASC.DNRES_PR_2002_t.csv', 'ETLSINASC.DNRES_PR_2003_t.csv', 'ETLSINASC.DNRES_PR_2004_t.csv', 'ETLSINASC.DNRES_PR_2005_t.csv', 'ETLSINASC.DNRES_PR_2006_t.csv', 'ETLSINASC.DNRES_PR_2007_t.csv', 'ETLSINASC.DNRES_PR_2008_t.csv', 'ETLSINASC.DNRES_PR_2009_t.csv', 'ETLSINASC.DNRES_PR_2010_t.csv', 'ETLSINASC.DNRES_PR_2011_t.csv', 'ETLSINASC.DNRES_PR_2012_t.csv', 'ETLSINASC.DNRES_PR_2013_t.csv', 'ETLSINASC.DNRES_PR_2014_t.csv', 'ETLSINASC.DNRES_PR_2015_t.csv', 'ETLSINASC.DNRES_PR_2016_t.csv', 'ETLSINASC.DNRES_PR_2017_t.csv', 'ETLSINASC.DNRES_PR_2018_t.csv', 'ETLSINASC.DNRES_PR_2019_t.csv', 'ETLSINASC.DNRES_RJ_1996_t.csv', 'ETLSINASC.DNRES_RJ_1997_t.csv', 'ETLSINASC.DNRES_RJ_1998_t.csv', 'ETLSINASC.DNRES_RJ_1999_t.csv', 'ETLSINASC.DNRES_RJ_2000_t.csv', 'ETLSINASC.DNRES_RJ_2001_t.csv', 'ETLSINASC.DNRES_RJ_2002_t.csv', 'ETLSINASC.DNRES_RJ_2003_t.csv', 'ETLSINASC.DNRES_RJ_2004_t.csv', 'ETLSINASC.DNRES_RJ_2005_t.csv', 'ETLSINASC.DNRES_RJ_2006_t.csv', 'ETLSINASC.DNRES_RJ_2007_t.csv', 'ETLSINASC.DNRES_RJ_2008_t.csv', 'ETLSINASC.DNRES_RJ_2009_t.csv', 'ETLSINASC.DNRES_RJ_2010_t.csv', 'ETLSINASC.DNRES_RJ_2011_t.csv', 'ETLSINASC.DNRES_RJ_2012_t.csv', 'ETLSINASC.DNRES_RJ_2013_t.csv', 'ETLSINASC.DNRES_RJ_2014_t.csv', 'ETLSINASC.DNRES_RJ_2015_t.csv', 'ETLSINASC.DNRES_RJ_2016_t.csv', 'ETLSINASC.DNRES_RJ_2017_t.csv', 'ETLSINASC.DNRES_RJ_2018_t.csv', 'ETLSINASC.DNRES_RJ_2019_t.csv', 'ETLSINASC.DNRES_RN_1996_t.csv', 'ETLSINASC.DNRES_RN_1997_t.csv', 'ETLSINASC.DNRES_RN_1998_t.csv', 'ETLSINASC.DNRES_RN_1999_t.csv', 'ETLSINASC.DNRES_RN_2000_t.csv', 'ETLSINASC.DNRES_RN_2001_t.csv', 'ETLSINASC.DNRES_RN_2002_t.csv', 'ETLSINASC.DNRES_RN_2003_t.csv', 'ETLSINASC.DNRES_RN_2004_t.csv', 'ETLSINASC.DNRES_RN_2005_t.csv', 'ETLSINASC.DNRES_RN_2006_t.csv', 'ETLSINASC.DNRES_RN_2007_t.csv', 'ETLSINASC.DNRES_RN_2008_t.csv', 'ETLSINASC.DNRES_RN_2009_t.csv', 'ETLSINASC.DNRES_RN_2010_t.csv', 'ETLSINASC.DNRES_RN_2011_t.csv', 'ETLSINASC.DNRES_RN_2012_t.csv', 'ETLSINASC.DNRES_RN_2013_t.csv', 'ETLSINASC.DNRES_RN_2014_t.csv', 'ETLSINASC.DNRES_RN_2015_t.csv', 'ETLSINASC.DNRES_RN_2016_t.csv', 'ETLSINASC.DNRES_RN_2017_t.csv', 'ETLSINASC.DNRES_RN_2018_t.csv', 'ETLSINASC.DNRES_RN_2019_t.csv', 'ETLSINASC.DNRES_RO_1996_t.csv', 'ETLSINASC.DNRES_RO_1997_t.csv', 'ETLSINASC.DNRES_RO_1998_t.csv', 'ETLSINASC.DNRES_RO_1999_t.csv', 'ETLSINASC.DNRES_RO_2000_t.csv', 'ETLSINASC.DNRES_RO_2001_t.csv', 'ETLSINASC.DNRES_RO_2002_t.csv', 'ETLSINASC.DNRES_RO_2003_t.csv', 'ETLSINASC.DNRES_RO_2004_t.csv', 'ETLSINASC.DNRES_RO_2005_t.csv', 'ETLSINASC.DNRES_RO_2006_t.csv', 'ETLSINASC.DNRES_RO_2007_t.csv', 'ETLSINASC.DNRES_RO_2008_t.csv', 'ETLSINASC.DNRES_RO_2009_t.csv', 'ETLSINASC.DNRES_RO_2010_t.csv', 'ETLSINASC.DNRES_RO_2011_t.csv', 'ETLSINASC.DNRES_RO_2012_t.csv', 'ETLSINASC.DNRES_RO_2013_t.csv', 'ETLSINASC.DNRES_RO_2014_t.csv', 'ETLSINASC.DNRES_RO_2015_t.csv', 'ETLSINASC.DNRES_RO_2016_t.csv', 'ETLSINASC.DNRES_RO_2017_t.csv', 'ETLSINASC.DNRES_RO_2018_t.csv', 'ETLSINASC.DNRES_RO_2019_t.csv', 'ETLSINASC.DNRES_RR_1996_t.csv', 'ETLSINASC.DNRES_RR_1997_t.csv', 'ETLSINASC.DNRES_RR_1998_t.csv', 'ETLSINASC.DNRES_RR_1999_t.csv', 'ETLSINASC.DNRES_RR_2000_t.csv', 'ETLSINASC.DNRES_RR_2001_t.csv', 'ETLSINASC.DNRES_RR_2002_t.csv', 'ETLSINASC.DNRES_RR_2003_t.csv', 'ETLSINASC.DNRES_RR_2004_t.csv', 'ETLSINASC.DNRES_RR_2005_t.csv', 'ETLSINASC.DNRES_RR_2006_t.csv', 'ETLSINASC.DNRES_RR_2007_t.csv', 'ETLSINASC.DNRES_RR_2008_t.csv', 'ETLSINASC.DNRES_RR_2009_t.csv', 'ETLSINASC.DNRES_RR_2010_t.csv', 'ETLSINASC.DNRES_RR_2011_t.csv', 'ETLSINASC.DNRES_RR_2012_t.csv', 'ETLSINASC.DNRES_RR_2013_t.csv', 'ETLSINASC.DNRES_RR_2014_t.csv', 'ETLSINASC.DNRES_RR_2015_t.csv', 'ETLSINASC.DNRES_RR_2016_t.csv', 'ETLSINASC.DNRES_RR_2017_t.csv', 'ETLSINASC.DNRES_RR_2018_t.csv', 'ETLSINASC.DNRES_RR_2019_t.csv', 'ETLSINASC.DNRES_RS_1996_t.csv', 'ETLSINASC.DNRES_RS_1997_t.csv', 'ETLSINASC.DNRES_RS_1998_t.csv', 'ETLSINASC.DNRES_RS_1999_t.csv', 'ETLSINASC.DNRES_RS_2000_t.csv', 'ETLSINASC.DNRES_RS_2001_t.csv', 'ETLSINASC.DNRES_RS_2002_t.csv', 'ETLSINASC.DNRES_RS_2003_t.csv', 'ETLSINASC.DNRES_RS_2004_t.csv', 'ETLSINASC.DNRES_RS_2005_t.csv', 'ETLSINASC.DNRES_RS_2006_t.csv', 'ETLSINASC.DNRES_RS_2007_t.csv', 'ETLSINASC.DNRES_RS_2008_t.csv', 'ETLSINASC.DNRES_RS_2009_t.csv', 'ETLSINASC.DNRES_RS_2010_t.csv', 'ETLSINASC.DNRES_RS_2011_t.csv', 'ETLSINASC.DNRES_RS_2012_t.csv', 'ETLSINASC.DNRES_RS_2013_t.csv', 'ETLSINASC.DNRES_RS_2014_t.csv', 'ETLSINASC.DNRES_RS_2015_t.csv', 'ETLSINASC.DNRES_RS_2016_t.csv', 'ETLSINASC.DNRES_RS_2017_t.csv', 'ETLSINASC.DNRES_RS_2018_t.csv', 'ETLSINASC.DNRES_RS_2019_t.csv', 'ETLSINASC.DNRES_SC_1996_t.csv', 'ETLSINASC.DNRES_SC_1997_t.csv', 'ETLSINASC.DNRES_SC_1998_t.csv', 'ETLSINASC.DNRES_SC_1999_t.csv', 'ETLSINASC.DNRES_SC_2000_t.csv', 'ETLSINASC.DNRES_SC_2001_t.csv', 'ETLSINASC.DNRES_SC_2002_t.csv', 'ETLSINASC.DNRES_SC_2003_t.csv', 'ETLSINASC.DNRES_SC_2004_t.csv', 'ETLSINASC.DNRES_SC_2005_t.csv', 'ETLSINASC.DNRES_SC_2006_t.csv', 'ETLSINASC.DNRES_SC_2007_t.csv', 'ETLSINASC.DNRES_SC_2008_t.csv', 'ETLSINASC.DNRES_SC_2009_t.csv', 'ETLSINASC.DNRES_SC_2010_t.csv', 'ETLSINASC.DNRES_SC_2011_t.csv', 'ETLSINASC.DNRES_SC_2012_t.csv', 'ETLSINASC.DNRES_SC_2013_t.csv', 'ETLSINASC.DNRES_SC_2014_t.csv', 'ETLSINASC.DNRES_SC_2015_t.csv', 'ETLSINASC.DNRES_SC_2016_t.csv', 'ETLSINASC.DNRES_SC_2017_t.csv', 'ETLSINASC.DNRES_SC_2018_t.csv', 'ETLSINASC.DNRES_SC_2019_t.csv', 'ETLSINASC.DNRES_SE_1996_t.csv', 'ETLSINASC.DNRES_SE_1997_t.csv', 'ETLSINASC.DNRES_SE_1998_t.csv', 'ETLSINASC.DNRES_SE_1999_t.csv', 'ETLSINASC.DNRES_SE_2000_t.csv', 'ETLSINASC.DNRES_SE_2001_t.csv', 'ETLSINASC.DNRES_SE_2002_t.csv', 'ETLSINASC.DNRES_SE_2003_t.csv', 'ETLSINASC.DNRES_SE_2004_t.csv', 'ETLSINASC.DNRES_SE_2005_t.csv', 'ETLSINASC.DNRES_SE_2006_t.csv', 'ETLSINASC.DNRES_SE_2007_t.csv', 'ETLSINASC.DNRES_SE_2008_t.csv', 'ETLSINASC.DNRES_SE_2009_t.csv', 'ETLSINASC.DNRES_SE_2010_t.csv', 'ETLSINASC.DNRES_SE_2011_t.csv', 'ETLSINASC.DNRES_SE_2012_t.csv', 'ETLSINASC.DNRES_SE_2013_t.csv', 'ETLSINASC.DNRES_SE_2014_t.csv', 'ETLSINASC.DNRES_SE_2015_t.csv', 'ETLSINASC.DNRES_SE_2016_t.csv', 'ETLSINASC.DNRES_SE_2017_t.csv', 'ETLSINASC.DNRES_SE_2018_t.csv', 'ETLSINASC.DNRES_SE_2019_t.csv', 'ETLSINASC.DNRES_SP_1996_t.csv', 'ETLSINASC.DNRES_SP_1997_t.csv', 'ETLSINASC.DNRES_SP_1998_t.csv', 'ETLSINASC.DNRES_SP_1999_t.csv', 'ETLSINASC.DNRES_SP_2000_t.csv', 'ETLSINASC.DNRES_SP_2001_t.csv', 'ETLSINASC.DNRES_SP_2002_t.csv', 'ETLSINASC.DNRES_SP_2003_t.csv', 'ETLSINASC.DNRES_SP_2004_t.csv', 'ETLSINASC.DNRES_SP_2005_t.csv', 'ETLSINASC.DNRES_SP_2006_t.csv', 'ETLSINASC.DNRES_SP_2007_t.csv', 'ETLSINASC.DNRES_SP_2008_t.csv', 'ETLSINASC.DNRES_SP_2009_t.csv', 'ETLSINASC.DNRES_SP_2010_t.csv', 'ETLSINASC.DNRES_SP_2011_t.csv', 'ETLSINASC.DNRES_SP_2012_t.csv', 'ETLSINASC.DNRES_SP_2013_t.csv', 'ETLSINASC.DNRES_SP_2014_t.csv', 'ETLSINASC.DNRES_SP_2015_t.csv', 'ETLSINASC.DNRES_SP_2016_t.csv', 'ETLSINASC.DNRES_SP_2017_t.csv', 'ETLSINASC.DNRES_SP_2018_t.csv', 'ETLSINASC.DNRES_SP_2019_t.csv', 'ETLSINASC.DNRES_TO_1996_t.csv', 'ETLSINASC.DNRES_TO_1997_t.csv', 'ETLSINASC.DNRES_TO_1998_t.csv', 'ETLSINASC.DNRES_TO_1999_t.csv', 'ETLSINASC.DNRES_TO_2000_t.csv', 'ETLSINASC.DNRES_TO_2001_t.csv', 'ETLSINASC.DNRES_TO_2002_t.csv', 'ETLSINASC.DNRES_TO_2003_t.csv', 'ETLSINASC.DNRES_TO_2004_t.csv', 'ETLSINASC.DNRES_TO_2005_t.csv', 'ETLSINASC.DNRES_TO_2006_t.csv', 'ETLSINASC.DNRES_TO_2007_t.csv', 'ETLSINASC.DNRES_TO_2008_t.csv', 'ETLSINASC.DNRES_TO_2009_t.csv', 'ETLSINASC.DNRES_TO_2010_t.csv', 'ETLSINASC.DNRES_TO_2011_t.csv', 'ETLSINASC.DNRES_TO_2012_t.csv', 'ETLSINASC.DNRES_TO_2013_t.csv', 'ETLSINASC.DNRES_TO_2014_t.csv', 'ETLSINASC.DNRES_TO_2015_t.csv', 'ETLSINASC.DNRES_TO_2016_t.csv', 'ETLSINASC.DNRES_TO_2017_t.csv', 'ETLSINASC.DNRES_TO_2018_t.csv', 'ETLSINASC.DNRES_TO_2019_t.csv', 'ETLSINASC.DNRES_AC_2020_t.csv', 'ETLSINASC.DNRES_AL_2020_t.csv', 'ETLSINASC.DNRES_AM_2020_t.csv', 'ETLSINASC.DNRES_AP_2020_t.csv', 'ETLSINASC.DNRES_BA_2020_t.csv', 'ETLSINASC.DNRES_CE_2020_t.csv', 'ETLSINASC.DNRES_DF_2020_t.csv', 'ETLSINASC.DNRES_ES_2020_t.csv', 'ETLSINASC.DNRES_GO_2020_t.csv', 'ETLSINASC.DNRES_MA_2020_t.csv', 'ETLSINASC.DNRES_MG_2020_t.csv', 'ETLSINASC.DNRES_MS_2020_t.csv', 'ETLSINASC.DNRES_MT_2020_t.csv', 'ETLSINASC.DNRES_PA_2020_t.csv', 'ETLSINASC.DNRES_PB_2020_t.csv', 'ETLSINASC.DNRES_PE_2020_t.csv', 'ETLSINASC.DNRES_PI_2020_t.csv', 'ETLSINASC.DNRES_PR_2020_t.csv', 'ETLSINASC.DNRES_RJ_2020_t.csv', 'ETLSINASC.DNRES_RN_2020_t.csv', 'ETLSINASC.DNRES_RO_2020_t.csv', 'ETLSINASC.DNRES_RR_2020_t.csv', 'ETLSINASC.DNRES_RS_2020_t.csv', 'ETLSINASC.DNRES_SC_2020_t.csv', 'ETLSINASC.DNRES_SE_2020_t.csv', 'ETLSINASC.DNRES_SP_2020_t.csv', 'ETLSINASC.DNRES_TO_2020_t.csv', 'ETLSINASC.DNRES_AC_2021_t.csv', 'ETLSINASC.DNRES_AL_2021_t.csv', 'ETLSINASC.DNRES_AM_2021_t.csv', 'ETLSINASC.DNRES_AP_2021_t.csv', 'ETLSINASC.DNRES_BA_2021_t.csv', 'ETLSINASC.DNRES_CE_2021_t.csv', 'ETLSINASC.DNRES_DF_2021_t.csv', 'ETLSINASC.DNRES_ES_2021_t.csv', 'ETLSINASC.DNRES_GO_2021_t.csv', 'ETLSINASC.DNRES_MA_2021_t.csv', 'ETLSINASC.DNRES_MG_2021_t.csv', 'ETLSINASC.DNRES_MS_2021_t.csv', 'ETLSINASC.DNRES_MT_2021_t.csv', 'ETLSINASC.DNRES_PA_2021_t.csv', 'ETLSINASC.DNRES_PB_2021_t.csv', 'ETLSINASC.DNRES_PE_2021_t.csv', 'ETLSINASC.DNRES_PI_2021_t.csv', 'ETLSINASC.DNRES_PR_2021_t.csv', 'ETLSINASC.DNRES_RJ_2021_t.csv', 'ETLSINASC.DNRES_RN_2021_t.csv', 'ETLSINASC.DNRES_RO_2021_t.csv', 'ETLSINASC.DNRES_RR_2021_t.csv', 'ETLSINASC.DNRES_RS_2021_t.csv', 'ETLSINASC.DNRES_SC_2021_t.csv', 'ETLSINASC.DNRES_SE_2021_t.csv', 'ETLSINASC.DNRES_SP_2021_t.csv', 'ETLSINASC.DNRES_TO_2021_t.csv']\n"
     ]
    }
   ],
   "source": [
    "print(nomes_arquivos)"
   ]
  },
  {
   "cell_type": "code",
   "execution_count": 17,
   "id": "695ce021",
   "metadata": {},
   "outputs": [
    {
     "name": "stdout",
     "output_type": "stream",
     "text": [
      "['ETLSINASC.DNRES_AC_2018_t.csv', 'ETLSINASC.DNRES_AL_2018_t.csv', 'ETLSINASC.DNRES_AM_2018_t.csv', 'ETLSINASC.DNRES_AP_2018_t.csv', 'ETLSINASC.DNRES_BA_2018_t.csv', 'ETLSINASC.DNRES_CE_2018_t.csv', 'ETLSINASC.DNRES_DF_2018_t.csv', 'ETLSINASC.DNRES_ES_2018_t.csv', 'ETLSINASC.DNRES_GO_2018_t.csv', 'ETLSINASC.DNRES_MA_2018_t.csv', 'ETLSINASC.DNRES_MG_2018_t.csv', 'ETLSINASC.DNRES_MS_2018_t.csv', 'ETLSINASC.DNRES_MT_2018_t.csv', 'ETLSINASC.DNRES_PA_2018_t.csv', 'ETLSINASC.DNRES_PB_2018_t.csv', 'ETLSINASC.DNRES_PE_2018_t.csv', 'ETLSINASC.DNRES_PI_2018_t.csv', 'ETLSINASC.DNRES_PR_2018_t.csv', 'ETLSINASC.DNRES_RJ_2018_t.csv', 'ETLSINASC.DNRES_RN_2018_t.csv', 'ETLSINASC.DNRES_RO_2018_t.csv', 'ETLSINASC.DNRES_RR_2018_t.csv', 'ETLSINASC.DNRES_RS_2018_t.csv', 'ETLSINASC.DNRES_SC_2018_t.csv', 'ETLSINASC.DNRES_SE_2018_t.csv', 'ETLSINASC.DNRES_SP_2018_t.csv', 'ETLSINASC.DNRES_TO_2018_t.csv', 'ETLSINASC.DNRES_AC_2019_t.csv', 'ETLSINASC.DNRES_AL_2019_t.csv', 'ETLSINASC.DNRES_AM_2019_t.csv', 'ETLSINASC.DNRES_AP_2019_t.csv', 'ETLSINASC.DNRES_BA_2019_t.csv', 'ETLSINASC.DNRES_CE_2019_t.csv', 'ETLSINASC.DNRES_DF_2019_t.csv', 'ETLSINASC.DNRES_ES_2019_t.csv', 'ETLSINASC.DNRES_GO_2019_t.csv', 'ETLSINASC.DNRES_MA_2019_t.csv', 'ETLSINASC.DNRES_MG_2019_t.csv', 'ETLSINASC.DNRES_MS_2019_t.csv', 'ETLSINASC.DNRES_MT_2019_t.csv', 'ETLSINASC.DNRES_PA_2019_t.csv', 'ETLSINASC.DNRES_PB_2019_t.csv', 'ETLSINASC.DNRES_PE_2019_t.csv', 'ETLSINASC.DNRES_PI_2019_t.csv', 'ETLSINASC.DNRES_PR_2019_t.csv', 'ETLSINASC.DNRES_RJ_2019_t.csv', 'ETLSINASC.DNRES_RN_2019_t.csv', 'ETLSINASC.DNRES_RO_2019_t.csv', 'ETLSINASC.DNRES_RR_2019_t.csv', 'ETLSINASC.DNRES_RS_2019_t.csv', 'ETLSINASC.DNRES_SC_2019_t.csv', 'ETLSINASC.DNRES_SE_2019_t.csv', 'ETLSINASC.DNRES_SP_2019_t.csv', 'ETLSINASC.DNRES_TO_2019_t.csv', 'ETLSINASC.DNRES_AC_2020_t.csv', 'ETLSINASC.DNRES_AL_2020_t.csv', 'ETLSINASC.DNRES_AM_2020_t.csv', 'ETLSINASC.DNRES_AP_2020_t.csv', 'ETLSINASC.DNRES_BA_2020_t.csv', 'ETLSINASC.DNRES_CE_2020_t.csv', 'ETLSINASC.DNRES_DF_2020_t.csv', 'ETLSINASC.DNRES_ES_2020_t.csv', 'ETLSINASC.DNRES_GO_2020_t.csv', 'ETLSINASC.DNRES_MA_2020_t.csv', 'ETLSINASC.DNRES_MG_2020_t.csv', 'ETLSINASC.DNRES_MS_2020_t.csv', 'ETLSINASC.DNRES_MT_2020_t.csv', 'ETLSINASC.DNRES_PA_2020_t.csv', 'ETLSINASC.DNRES_PB_2020_t.csv', 'ETLSINASC.DNRES_PE_2020_t.csv', 'ETLSINASC.DNRES_PI_2020_t.csv', 'ETLSINASC.DNRES_PR_2020_t.csv', 'ETLSINASC.DNRES_RJ_2020_t.csv', 'ETLSINASC.DNRES_RN_2020_t.csv', 'ETLSINASC.DNRES_RO_2020_t.csv', 'ETLSINASC.DNRES_RR_2020_t.csv', 'ETLSINASC.DNRES_RS_2020_t.csv', 'ETLSINASC.DNRES_SC_2020_t.csv', 'ETLSINASC.DNRES_SE_2020_t.csv', 'ETLSINASC.DNRES_SP_2020_t.csv', 'ETLSINASC.DNRES_TO_2020_t.csv']\n"
     ]
    }
   ],
   "source": [
    "lista_2018 = [nome for nome in nomes_arquivos if \"2018\" in nome]\n",
    "lista_2019 = [nome for nome in nomes_arquivos if \"2019\" in nome]\n",
    "listas_2020 = [nome for nome in nomes_arquivos if \"_2020\" in nome]\n",
    "\n",
    "joinedlist = lista_2018 + lista_2019 + listas_2020\n",
    "\n",
    "print(joinedlist)"
   ]
  },
  {
   "cell_type": "code",
   "execution_count": 18,
   "id": "5d8b1c35",
   "metadata": {},
   "outputs": [
    {
     "name": "stdout",
     "output_type": "stream",
     "text": [
      "ETLSINASC.DNRES_AC_2018_t.csv\n",
      "ETLSINASC.DNRES_AL_2018_t.csv\n",
      "ETLSINASC.DNRES_AM_2018_t.csv\n",
      "ETLSINASC.DNRES_AP_2018_t.csv\n",
      "ETLSINASC.DNRES_BA_2018_t.csv\n",
      "ETLSINASC.DNRES_CE_2018_t.csv\n",
      "ETLSINASC.DNRES_DF_2018_t.csv\n",
      "ETLSINASC.DNRES_ES_2018_t.csv\n",
      "ETLSINASC.DNRES_GO_2018_t.csv\n",
      "ETLSINASC.DNRES_MA_2018_t.csv\n",
      "ETLSINASC.DNRES_MG_2018_t.csv\n",
      "ETLSINASC.DNRES_MS_2018_t.csv\n",
      "ETLSINASC.DNRES_MT_2018_t.csv\n",
      "ETLSINASC.DNRES_PA_2018_t.csv\n",
      "ETLSINASC.DNRES_PB_2018_t.csv\n",
      "ETLSINASC.DNRES_PE_2018_t.csv\n",
      "ETLSINASC.DNRES_PI_2018_t.csv\n",
      "ETLSINASC.DNRES_PR_2018_t.csv\n",
      "ETLSINASC.DNRES_RJ_2018_t.csv\n",
      "ETLSINASC.DNRES_RN_2018_t.csv\n",
      "ETLSINASC.DNRES_RO_2018_t.csv\n",
      "ETLSINASC.DNRES_RR_2018_t.csv\n",
      "ETLSINASC.DNRES_RS_2018_t.csv\n",
      "ETLSINASC.DNRES_SC_2018_t.csv\n",
      "ETLSINASC.DNRES_SE_2018_t.csv\n",
      "ETLSINASC.DNRES_SP_2018_t.csv\n",
      "ETLSINASC.DNRES_TO_2018_t.csv\n",
      "ETLSINASC.DNRES_AC_2019_t.csv\n",
      "ETLSINASC.DNRES_AL_2019_t.csv\n",
      "ETLSINASC.DNRES_AM_2019_t.csv\n",
      "ETLSINASC.DNRES_AP_2019_t.csv\n",
      "ETLSINASC.DNRES_BA_2019_t.csv\n",
      "ETLSINASC.DNRES_CE_2019_t.csv\n",
      "ETLSINASC.DNRES_DF_2019_t.csv\n",
      "ETLSINASC.DNRES_ES_2019_t.csv\n",
      "ETLSINASC.DNRES_GO_2019_t.csv\n",
      "ETLSINASC.DNRES_MA_2019_t.csv\n",
      "ETLSINASC.DNRES_MG_2019_t.csv\n",
      "ETLSINASC.DNRES_MS_2019_t.csv\n",
      "ETLSINASC.DNRES_MT_2019_t.csv\n",
      "ETLSINASC.DNRES_PA_2019_t.csv\n",
      "ETLSINASC.DNRES_PB_2019_t.csv\n",
      "ETLSINASC.DNRES_PE_2019_t.csv\n",
      "ETLSINASC.DNRES_PI_2019_t.csv\n",
      "ETLSINASC.DNRES_PR_2019_t.csv\n",
      "ETLSINASC.DNRES_RJ_2019_t.csv\n",
      "ETLSINASC.DNRES_RN_2019_t.csv\n",
      "ETLSINASC.DNRES_RO_2019_t.csv\n",
      "ETLSINASC.DNRES_RR_2019_t.csv\n",
      "ETLSINASC.DNRES_RS_2019_t.csv\n",
      "ETLSINASC.DNRES_SC_2019_t.csv\n",
      "ETLSINASC.DNRES_SE_2019_t.csv\n",
      "ETLSINASC.DNRES_SP_2019_t.csv\n",
      "ETLSINASC.DNRES_TO_2019_t.csv\n",
      "ETLSINASC.DNRES_AC_2020_t.csv\n",
      "ETLSINASC.DNRES_AL_2020_t.csv\n",
      "ETLSINASC.DNRES_AM_2020_t.csv\n",
      "ETLSINASC.DNRES_AP_2020_t.csv\n",
      "ETLSINASC.DNRES_BA_2020_t.csv\n",
      "ETLSINASC.DNRES_CE_2020_t.csv\n",
      "ETLSINASC.DNRES_DF_2020_t.csv\n",
      "ETLSINASC.DNRES_ES_2020_t.csv\n",
      "ETLSINASC.DNRES_GO_2020_t.csv\n",
      "ETLSINASC.DNRES_MA_2020_t.csv\n",
      "ETLSINASC.DNRES_MG_2020_t.csv\n",
      "ETLSINASC.DNRES_MS_2020_t.csv\n",
      "ETLSINASC.DNRES_MT_2020_t.csv\n",
      "ETLSINASC.DNRES_PA_2020_t.csv\n",
      "ETLSINASC.DNRES_PB_2020_t.csv\n",
      "ETLSINASC.DNRES_PE_2020_t.csv\n",
      "ETLSINASC.DNRES_PI_2020_t.csv\n",
      "ETLSINASC.DNRES_PR_2020_t.csv\n",
      "ETLSINASC.DNRES_RJ_2020_t.csv\n",
      "ETLSINASC.DNRES_RN_2020_t.csv\n",
      "ETLSINASC.DNRES_RO_2020_t.csv\n",
      "ETLSINASC.DNRES_RR_2020_t.csv\n",
      "ETLSINASC.DNRES_RS_2020_t.csv\n",
      "ETLSINASC.DNRES_SC_2020_t.csv\n",
      "ETLSINASC.DNRES_SE_2020_t.csv\n",
      "ETLSINASC.DNRES_SP_2020_t.csv\n",
      "ETLSINASC.DNRES_TO_2020_t.csv\n"
     ]
    }
   ],
   "source": [
    "# Diretório base onde os arquivos estão localizados\n",
    "diretorio_base = r'C:\\Users\\Elke\\Desktop\\projetoprematuridade'\n",
    "\n",
    "# Cria uma nova lista com caminhos relativos\n",
    "caminhos_arquivos = [os.path.relpath(os.path.join(diretorio_base, nome), diretorio_base) for nome in joinedlist]\n",
    "\n",
    "# Os caminhos relativos dos arquivos estarão na lista caminhos_arquivos\n",
    "for caminho in caminhos_arquivos:\n",
    "    print(caminho)\n"
   ]
  },
  {
   "cell_type": "code",
   "execution_count": 19,
   "id": "5297d6db",
   "metadata": {},
   "outputs": [
    {
     "name": "stdout",
     "output_type": "stream",
     "text": [
      "Arquivo extraído: ETLSINASC.DNRES_AC_2018_t.csv\n",
      "Arquivo extraído: ETLSINASC.DNRES_AL_2018_t.csv\n",
      "Arquivo extraído: ETLSINASC.DNRES_AM_2018_t.csv\n",
      "Arquivo extraído: ETLSINASC.DNRES_AP_2018_t.csv\n",
      "Arquivo extraído: ETLSINASC.DNRES_BA_2018_t.csv\n",
      "Arquivo extraído: ETLSINASC.DNRES_CE_2018_t.csv\n",
      "Arquivo extraído: ETLSINASC.DNRES_DF_2018_t.csv\n",
      "Arquivo extraído: ETLSINASC.DNRES_ES_2018_t.csv\n",
      "Arquivo extraído: ETLSINASC.DNRES_GO_2018_t.csv\n",
      "Arquivo extraído: ETLSINASC.DNRES_MA_2018_t.csv\n",
      "Arquivo extraído: ETLSINASC.DNRES_MG_2018_t.csv\n",
      "Arquivo extraído: ETLSINASC.DNRES_MS_2018_t.csv\n",
      "Arquivo extraído: ETLSINASC.DNRES_MT_2018_t.csv\n",
      "Arquivo extraído: ETLSINASC.DNRES_PA_2018_t.csv\n",
      "Arquivo extraído: ETLSINASC.DNRES_PB_2018_t.csv\n",
      "Arquivo extraído: ETLSINASC.DNRES_PE_2018_t.csv\n",
      "Arquivo extraído: ETLSINASC.DNRES_PI_2018_t.csv\n",
      "Arquivo extraído: ETLSINASC.DNRES_PR_2018_t.csv\n",
      "Arquivo extraído: ETLSINASC.DNRES_RJ_2018_t.csv\n",
      "Arquivo extraído: ETLSINASC.DNRES_RN_2018_t.csv\n",
      "Arquivo extraído: ETLSINASC.DNRES_RO_2018_t.csv\n",
      "Arquivo extraído: ETLSINASC.DNRES_RR_2018_t.csv\n",
      "Arquivo extraído: ETLSINASC.DNRES_RS_2018_t.csv\n",
      "Arquivo extraído: ETLSINASC.DNRES_SC_2018_t.csv\n",
      "Arquivo extraído: ETLSINASC.DNRES_SE_2018_t.csv\n",
      "Arquivo extraído: ETLSINASC.DNRES_SP_2018_t.csv\n",
      "Arquivo extraído: ETLSINASC.DNRES_TO_2018_t.csv\n",
      "Arquivo extraído: ETLSINASC.DNRES_AC_2019_t.csv\n",
      "Arquivo extraído: ETLSINASC.DNRES_AL_2019_t.csv\n",
      "Arquivo extraído: ETLSINASC.DNRES_AM_2019_t.csv\n",
      "Arquivo extraído: ETLSINASC.DNRES_AP_2019_t.csv\n",
      "Arquivo extraído: ETLSINASC.DNRES_BA_2019_t.csv\n",
      "Arquivo extraído: ETLSINASC.DNRES_CE_2019_t.csv\n",
      "Arquivo extraído: ETLSINASC.DNRES_DF_2019_t.csv\n",
      "Arquivo extraído: ETLSINASC.DNRES_ES_2019_t.csv\n",
      "Arquivo extraído: ETLSINASC.DNRES_GO_2019_t.csv\n",
      "Arquivo extraído: ETLSINASC.DNRES_MA_2019_t.csv\n",
      "Arquivo extraído: ETLSINASC.DNRES_MG_2019_t.csv\n",
      "Arquivo extraído: ETLSINASC.DNRES_MS_2019_t.csv\n",
      "Arquivo extraído: ETLSINASC.DNRES_MT_2019_t.csv\n",
      "Arquivo extraído: ETLSINASC.DNRES_PA_2019_t.csv\n",
      "Arquivo extraído: ETLSINASC.DNRES_PB_2019_t.csv\n",
      "Arquivo extraído: ETLSINASC.DNRES_PE_2019_t.csv\n",
      "Arquivo extraído: ETLSINASC.DNRES_PI_2019_t.csv\n",
      "Arquivo extraído: ETLSINASC.DNRES_PR_2019_t.csv\n",
      "Arquivo extraído: ETLSINASC.DNRES_RJ_2019_t.csv\n",
      "Arquivo extraído: ETLSINASC.DNRES_RN_2019_t.csv\n",
      "Arquivo extraído: ETLSINASC.DNRES_RO_2019_t.csv\n",
      "Arquivo extraído: ETLSINASC.DNRES_RR_2019_t.csv\n",
      "Arquivo extraído: ETLSINASC.DNRES_RS_2019_t.csv\n",
      "Arquivo extraído: ETLSINASC.DNRES_SC_2019_t.csv\n",
      "Arquivo extraído: ETLSINASC.DNRES_SE_2019_t.csv\n",
      "Arquivo extraído: ETLSINASC.DNRES_SP_2019_t.csv\n",
      "Arquivo extraído: ETLSINASC.DNRES_TO_2019_t.csv\n",
      "Arquivo extraído: ETLSINASC.DNRES_AC_2020_t.csv\n",
      "Arquivo extraído: ETLSINASC.DNRES_AL_2020_t.csv\n",
      "Arquivo extraído: ETLSINASC.DNRES_AM_2020_t.csv\n",
      "Arquivo extraído: ETLSINASC.DNRES_AP_2020_t.csv\n",
      "Arquivo extraído: ETLSINASC.DNRES_BA_2020_t.csv\n",
      "Arquivo extraído: ETLSINASC.DNRES_CE_2020_t.csv\n",
      "Arquivo extraído: ETLSINASC.DNRES_DF_2020_t.csv\n",
      "Arquivo extraído: ETLSINASC.DNRES_ES_2020_t.csv\n",
      "Arquivo extraído: ETLSINASC.DNRES_GO_2020_t.csv\n",
      "Arquivo extraído: ETLSINASC.DNRES_MA_2020_t.csv\n",
      "Arquivo extraído: ETLSINASC.DNRES_MG_2020_t.csv\n",
      "Arquivo extraído: ETLSINASC.DNRES_MS_2020_t.csv\n",
      "Arquivo extraído: ETLSINASC.DNRES_MT_2020_t.csv\n",
      "Arquivo extraído: ETLSINASC.DNRES_PA_2020_t.csv\n",
      "Arquivo extraído: ETLSINASC.DNRES_PB_2020_t.csv\n",
      "Arquivo extraído: ETLSINASC.DNRES_PE_2020_t.csv\n",
      "Arquivo extraído: ETLSINASC.DNRES_PI_2020_t.csv\n",
      "Arquivo extraído: ETLSINASC.DNRES_PR_2020_t.csv\n",
      "Arquivo extraído: ETLSINASC.DNRES_RJ_2020_t.csv\n",
      "Arquivo extraído: ETLSINASC.DNRES_RN_2020_t.csv\n",
      "Arquivo extraído: ETLSINASC.DNRES_RO_2020_t.csv\n",
      "Arquivo extraído: ETLSINASC.DNRES_RR_2020_t.csv\n",
      "Arquivo extraído: ETLSINASC.DNRES_RS_2020_t.csv\n",
      "Arquivo extraído: ETLSINASC.DNRES_SC_2020_t.csv\n",
      "Arquivo extraído: ETLSINASC.DNRES_SE_2020_t.csv\n",
      "Arquivo extraído: ETLSINASC.DNRES_SP_2020_t.csv\n",
      "Arquivo extraído: ETLSINASC.DNRES_TO_2020_t.csv\n"
     ]
    }
   ],
   "source": [
    "import zipfile\n",
    "import os\n",
    "\n",
    "def extrair_arquivos_especificos_de_pasta_zip(pasta_zipada, caminhos_arquivos, pasta_de_destino):\n",
    "    # Verifica se a pasta zipada existe\n",
    "    if not os.path.isfile(pasta_zipada):\n",
    "        print(f'A pasta zipada não existe: {pasta_zipada}')\n",
    "        return\n",
    "\n",
    "    with zipfile.ZipFile(pasta_zipada, 'r') as zip_ref:\n",
    "        for caminho_arquivo in caminhos_arquivos:\n",
    "            try:\n",
    "                zip_ref.extract(caminho_arquivo, pasta_de_destino)\n",
    "                print(f'Arquivo extraído: {caminho_arquivo}')\n",
    "            except KeyError:\n",
    "                print(f'Arquivo não encontrado na pasta zipada: {caminho_arquivo}')\n",
    "\n",
    "# Exemplo de uso da função\n",
    "pasta_zipada = 'ETLSINASC.zip'  # Pasta ZIP que contém os arquivos\n",
    "caminhos_arquivos = caminhos_arquivos  # Lista de caminhos dos arquivos a extrair\n",
    "pasta_destino = 'SINASC_2018_ate_2020'  # Pasta para onde os arquivos serão copiados\n",
    "\n",
    "extrair_arquivos_especificos_de_pasta_zip(pasta_zipada, caminhos_arquivos, pasta_destino)\n"
   ]
  },
  {
   "cell_type": "markdown",
   "id": "0c97a359",
   "metadata": {},
   "source": [
    "# 2. Análise e Processamento dos DataFrames\n"
   ]
  },
  {
   "cell_type": "code",
   "execution_count": 21,
   "id": "6f7ed8ab",
   "metadata": {},
   "outputs": [
    {
     "name": "stderr",
     "output_type": "stream",
     "text": [
      "C:\\Users\\Elke\\AppData\\Local\\Temp\\ipykernel_9140\\2232261796.py:12: DtypeWarning: Columns (117) have mixed types. Specify dtype option on import or set low_memory=False.\n",
      "  df_referencia = pd.read_csv(primeiro_arquivo)\n"
     ]
    },
    {
     "ename": "KeyboardInterrupt",
     "evalue": "",
     "output_type": "error",
     "traceback": [
      "\u001b[1;31m---------------------------------------------------------------------------\u001b[0m",
      "\u001b[1;31mKeyboardInterrupt\u001b[0m                         Traceback (most recent call last)",
      "\u001b[1;32mc:\\Users\\Elke\\Desktop\\projeto_prematuridade\\notebook_prematuridade_SINASC.ipynb Cell 9\u001b[0m line \u001b[0;36m2\n\u001b[0;32m     <a href='vscode-notebook-cell:/c%3A/Users/Elke/Desktop/projeto_prematuridade/notebook_prematuridade_SINASC.ipynb#X11sZmlsZQ%3D%3D?line=23'>24</a>\u001b[0m         \u001b[39m#else:\u001b[39;00m\n\u001b[0;32m     <a href='vscode-notebook-cell:/c%3A/Users/Elke/Desktop/projeto_prematuridade/notebook_prematuridade_SINASC.ipynb#X11sZmlsZQ%3D%3D?line=24'>25</a>\u001b[0m             \u001b[39m#print(f\"As colunas em {arquivo_atual} são as mesmas que as colunas em {primeiro_arquivo}.\")\u001b[39;00m\n\u001b[0;32m     <a href='vscode-notebook-cell:/c%3A/Users/Elke/Desktop/projeto_prematuridade/notebook_prematuridade_SINASC.ipynb#X11sZmlsZQ%3D%3D?line=26'>27</a>\u001b[0m caminho_da_pasta \u001b[39m=\u001b[39m \u001b[39m\"\u001b[39m\u001b[39mSINASC_2018_ate_2020\u001b[39m\u001b[39m\"\u001b[39m\n\u001b[1;32m---> <a href='vscode-notebook-cell:/c%3A/Users/Elke/Desktop/projeto_prematuridade/notebook_prematuridade_SINASC.ipynb#X11sZmlsZQ%3D%3D?line=27'>28</a>\u001b[0m comparar_colunas_em_pastas(caminho_da_pasta)\n",
      "\u001b[1;32mc:\\Users\\Elke\\Desktop\\projeto_prematuridade\\notebook_prematuridade_SINASC.ipynb Cell 9\u001b[0m line \u001b[0;36m1\n\u001b[0;32m     <a href='vscode-notebook-cell:/c%3A/Users/Elke/Desktop/projeto_prematuridade/notebook_prematuridade_SINASC.ipynb#X11sZmlsZQ%3D%3D?line=16'>17</a>\u001b[0m \u001b[39mfor\u001b[39;00m arquivo \u001b[39min\u001b[39;00m arquivos_na_pasta[\u001b[39m1\u001b[39m:]:\n\u001b[0;32m     <a href='vscode-notebook-cell:/c%3A/Users/Elke/Desktop/projeto_prematuridade/notebook_prematuridade_SINASC.ipynb#X11sZmlsZQ%3D%3D?line=17'>18</a>\u001b[0m     arquivo_atual \u001b[39m=\u001b[39m os\u001b[39m.\u001b[39mpath\u001b[39m.\u001b[39mjoin(caminho_da_pasta, arquivo)\n\u001b[1;32m---> <a href='vscode-notebook-cell:/c%3A/Users/Elke/Desktop/projeto_prematuridade/notebook_prematuridade_SINASC.ipynb#X11sZmlsZQ%3D%3D?line=18'>19</a>\u001b[0m     df_atual \u001b[39m=\u001b[39m pd\u001b[39m.\u001b[39mread_csv(arquivo_atual) \n\u001b[0;32m     <a href='vscode-notebook-cell:/c%3A/Users/Elke/Desktop/projeto_prematuridade/notebook_prematuridade_SINASC.ipynb#X11sZmlsZQ%3D%3D?line=20'>21</a>\u001b[0m     \u001b[39m# Verifica se as colunas do DataFrame atual são as mesmas que as colunas de referência\u001b[39;00m\n\u001b[0;32m     <a href='vscode-notebook-cell:/c%3A/Users/Elke/Desktop/projeto_prematuridade/notebook_prematuridade_SINASC.ipynb#X11sZmlsZQ%3D%3D?line=21'>22</a>\u001b[0m     \u001b[39mif\u001b[39;00m \u001b[39mset\u001b[39m(df_atual\u001b[39m.\u001b[39mcolumns) \u001b[39m!=\u001b[39m colunas_de_referencia:\n",
      "File \u001b[1;32mc:\\Users\\Elke\\anaconda3\\envs\\projeto_prematuridade\\Lib\\site-packages\\pandas\\io\\parsers\\readers.py:948\u001b[0m, in \u001b[0;36mread_csv\u001b[1;34m(filepath_or_buffer, sep, delimiter, header, names, index_col, usecols, dtype, engine, converters, true_values, false_values, skipinitialspace, skiprows, skipfooter, nrows, na_values, keep_default_na, na_filter, verbose, skip_blank_lines, parse_dates, infer_datetime_format, keep_date_col, date_parser, date_format, dayfirst, cache_dates, iterator, chunksize, compression, thousands, decimal, lineterminator, quotechar, quoting, doublequote, escapechar, comment, encoding, encoding_errors, dialect, on_bad_lines, delim_whitespace, low_memory, memory_map, float_precision, storage_options, dtype_backend)\u001b[0m\n\u001b[0;32m    935\u001b[0m kwds_defaults \u001b[39m=\u001b[39m _refine_defaults_read(\n\u001b[0;32m    936\u001b[0m     dialect,\n\u001b[0;32m    937\u001b[0m     delimiter,\n\u001b[1;32m   (...)\u001b[0m\n\u001b[0;32m    944\u001b[0m     dtype_backend\u001b[39m=\u001b[39mdtype_backend,\n\u001b[0;32m    945\u001b[0m )\n\u001b[0;32m    946\u001b[0m kwds\u001b[39m.\u001b[39mupdate(kwds_defaults)\n\u001b[1;32m--> 948\u001b[0m \u001b[39mreturn\u001b[39;00m _read(filepath_or_buffer, kwds)\n",
      "File \u001b[1;32mc:\\Users\\Elke\\anaconda3\\envs\\projeto_prematuridade\\Lib\\site-packages\\pandas\\io\\parsers\\readers.py:617\u001b[0m, in \u001b[0;36m_read\u001b[1;34m(filepath_or_buffer, kwds)\u001b[0m\n\u001b[0;32m    614\u001b[0m     \u001b[39mreturn\u001b[39;00m parser\n\u001b[0;32m    616\u001b[0m \u001b[39mwith\u001b[39;00m parser:\n\u001b[1;32m--> 617\u001b[0m     \u001b[39mreturn\u001b[39;00m parser\u001b[39m.\u001b[39mread(nrows)\n",
      "File \u001b[1;32mc:\\Users\\Elke\\anaconda3\\envs\\projeto_prematuridade\\Lib\\site-packages\\pandas\\io\\parsers\\readers.py:1765\u001b[0m, in \u001b[0;36mTextFileReader.read\u001b[1;34m(self, nrows)\u001b[0m\n\u001b[0;32m   1762\u001b[0m     \u001b[39melse\u001b[39;00m:\n\u001b[0;32m   1763\u001b[0m         new_rows \u001b[39m=\u001b[39m \u001b[39mlen\u001b[39m(index)\n\u001b[1;32m-> 1765\u001b[0m     df \u001b[39m=\u001b[39m DataFrame(col_dict, columns\u001b[39m=\u001b[39mcolumns, index\u001b[39m=\u001b[39mindex)\n\u001b[0;32m   1767\u001b[0m     \u001b[39mself\u001b[39m\u001b[39m.\u001b[39m_currow \u001b[39m+\u001b[39m\u001b[39m=\u001b[39m new_rows\n\u001b[0;32m   1768\u001b[0m \u001b[39mreturn\u001b[39;00m df\n",
      "File \u001b[1;32mc:\\Users\\Elke\\anaconda3\\envs\\projeto_prematuridade\\Lib\\site-packages\\pandas\\core\\frame.py:736\u001b[0m, in \u001b[0;36mDataFrame.__init__\u001b[1;34m(self, data, index, columns, dtype, copy)\u001b[0m\n\u001b[0;32m    730\u001b[0m     mgr \u001b[39m=\u001b[39m \u001b[39mself\u001b[39m\u001b[39m.\u001b[39m_init_mgr(\n\u001b[0;32m    731\u001b[0m         data, axes\u001b[39m=\u001b[39m{\u001b[39m\"\u001b[39m\u001b[39mindex\u001b[39m\u001b[39m\"\u001b[39m: index, \u001b[39m\"\u001b[39m\u001b[39mcolumns\u001b[39m\u001b[39m\"\u001b[39m: columns}, dtype\u001b[39m=\u001b[39mdtype, copy\u001b[39m=\u001b[39mcopy\n\u001b[0;32m    732\u001b[0m     )\n\u001b[0;32m    734\u001b[0m \u001b[39melif\u001b[39;00m \u001b[39misinstance\u001b[39m(data, \u001b[39mdict\u001b[39m):\n\u001b[0;32m    735\u001b[0m     \u001b[39m# GH#38939 de facto copy defaults to False only in non-dict cases\u001b[39;00m\n\u001b[1;32m--> 736\u001b[0m     mgr \u001b[39m=\u001b[39m dict_to_mgr(data, index, columns, dtype\u001b[39m=\u001b[39mdtype, copy\u001b[39m=\u001b[39mcopy, typ\u001b[39m=\u001b[39mmanager)\n\u001b[0;32m    737\u001b[0m \u001b[39melif\u001b[39;00m \u001b[39misinstance\u001b[39m(data, ma\u001b[39m.\u001b[39mMaskedArray):\n\u001b[0;32m    738\u001b[0m     \u001b[39mfrom\u001b[39;00m \u001b[39mnumpy\u001b[39;00m\u001b[39m.\u001b[39;00m\u001b[39mma\u001b[39;00m \u001b[39mimport\u001b[39;00m mrecords\n",
      "File \u001b[1;32mc:\\Users\\Elke\\anaconda3\\envs\\projeto_prematuridade\\Lib\\site-packages\\pandas\\core\\internals\\construction.py:503\u001b[0m, in \u001b[0;36mdict_to_mgr\u001b[1;34m(data, index, columns, dtype, typ, copy)\u001b[0m\n\u001b[0;32m    499\u001b[0m     \u001b[39melse\u001b[39;00m:\n\u001b[0;32m    500\u001b[0m         \u001b[39m# dtype check to exclude e.g. range objects, scalars\u001b[39;00m\n\u001b[0;32m    501\u001b[0m         arrays \u001b[39m=\u001b[39m [x\u001b[39m.\u001b[39mcopy() \u001b[39mif\u001b[39;00m \u001b[39mhasattr\u001b[39m(x, \u001b[39m\"\u001b[39m\u001b[39mdtype\u001b[39m\u001b[39m\"\u001b[39m) \u001b[39melse\u001b[39;00m x \u001b[39mfor\u001b[39;00m x \u001b[39min\u001b[39;00m arrays]\n\u001b[1;32m--> 503\u001b[0m \u001b[39mreturn\u001b[39;00m arrays_to_mgr(arrays, columns, index, dtype\u001b[39m=\u001b[39mdtype, typ\u001b[39m=\u001b[39mtyp, consolidate\u001b[39m=\u001b[39mcopy)\n",
      "File \u001b[1;32mc:\\Users\\Elke\\anaconda3\\envs\\projeto_prematuridade\\Lib\\site-packages\\pandas\\core\\internals\\construction.py:152\u001b[0m, in \u001b[0;36marrays_to_mgr\u001b[1;34m(arrays, columns, index, dtype, verify_integrity, typ, consolidate)\u001b[0m\n\u001b[0;32m    149\u001b[0m axes \u001b[39m=\u001b[39m [columns, index]\n\u001b[0;32m    151\u001b[0m \u001b[39mif\u001b[39;00m typ \u001b[39m==\u001b[39m \u001b[39m\"\u001b[39m\u001b[39mblock\u001b[39m\u001b[39m\"\u001b[39m:\n\u001b[1;32m--> 152\u001b[0m     \u001b[39mreturn\u001b[39;00m create_block_manager_from_column_arrays(\n\u001b[0;32m    153\u001b[0m         arrays, axes, consolidate\u001b[39m=\u001b[39mconsolidate, refs\u001b[39m=\u001b[39mrefs\n\u001b[0;32m    154\u001b[0m     )\n\u001b[0;32m    155\u001b[0m \u001b[39melif\u001b[39;00m typ \u001b[39m==\u001b[39m \u001b[39m\"\u001b[39m\u001b[39marray\u001b[39m\u001b[39m\"\u001b[39m:\n\u001b[0;32m    156\u001b[0m     \u001b[39mreturn\u001b[39;00m ArrayManager(arrays, [index, columns])\n",
      "File \u001b[1;32mc:\\Users\\Elke\\anaconda3\\envs\\projeto_prematuridade\\Lib\\site-packages\\pandas\\core\\internals\\managers.py:2091\u001b[0m, in \u001b[0;36mcreate_block_manager_from_column_arrays\u001b[1;34m(arrays, axes, consolidate, refs)\u001b[0m\n\u001b[0;32m   2089\u001b[0m     raise_construction_error(\u001b[39mlen\u001b[39m(arrays), arrays[\u001b[39m0\u001b[39m]\u001b[39m.\u001b[39mshape, axes, e)\n\u001b[0;32m   2090\u001b[0m \u001b[39mif\u001b[39;00m consolidate:\n\u001b[1;32m-> 2091\u001b[0m     mgr\u001b[39m.\u001b[39m_consolidate_inplace()\n\u001b[0;32m   2092\u001b[0m \u001b[39mreturn\u001b[39;00m mgr\n",
      "File \u001b[1;32mc:\\Users\\Elke\\anaconda3\\envs\\projeto_prematuridade\\Lib\\site-packages\\pandas\\core\\internals\\managers.py:1750\u001b[0m, in \u001b[0;36mBlockManager._consolidate_inplace\u001b[1;34m(self)\u001b[0m\n\u001b[0;32m   1744\u001b[0m \u001b[39mdef\u001b[39;00m \u001b[39m_consolidate_inplace\u001b[39m(\u001b[39mself\u001b[39m) \u001b[39m-\u001b[39m\u001b[39m>\u001b[39m \u001b[39mNone\u001b[39;00m:\n\u001b[0;32m   1745\u001b[0m     \u001b[39m# In general, _consolidate_inplace should only be called via\u001b[39;00m\n\u001b[0;32m   1746\u001b[0m     \u001b[39m#  DataFrame._consolidate_inplace, otherwise we will fail to invalidate\u001b[39;00m\n\u001b[0;32m   1747\u001b[0m     \u001b[39m#  the DataFrame's _item_cache. The exception is for newly-created\u001b[39;00m\n\u001b[0;32m   1748\u001b[0m     \u001b[39m#  BlockManager objects not yet attached to a DataFrame.\u001b[39;00m\n\u001b[0;32m   1749\u001b[0m     \u001b[39mif\u001b[39;00m \u001b[39mnot\u001b[39;00m \u001b[39mself\u001b[39m\u001b[39m.\u001b[39mis_consolidated():\n\u001b[1;32m-> 1750\u001b[0m         \u001b[39mself\u001b[39m\u001b[39m.\u001b[39mblocks \u001b[39m=\u001b[39m _consolidate(\u001b[39mself\u001b[39m\u001b[39m.\u001b[39mblocks)\n\u001b[0;32m   1751\u001b[0m         \u001b[39mself\u001b[39m\u001b[39m.\u001b[39m_is_consolidated \u001b[39m=\u001b[39m \u001b[39mTrue\u001b[39;00m\n\u001b[0;32m   1752\u001b[0m         \u001b[39mself\u001b[39m\u001b[39m.\u001b[39m_known_consolidated \u001b[39m=\u001b[39m \u001b[39mTrue\u001b[39;00m\n",
      "File \u001b[1;32mc:\\Users\\Elke\\anaconda3\\envs\\projeto_prematuridade\\Lib\\site-packages\\pandas\\core\\internals\\managers.py:2217\u001b[0m, in \u001b[0;36m_consolidate\u001b[1;34m(blocks)\u001b[0m\n\u001b[0;32m   2215\u001b[0m new_blocks: \u001b[39mlist\u001b[39m[Block] \u001b[39m=\u001b[39m []\n\u001b[0;32m   2216\u001b[0m \u001b[39mfor\u001b[39;00m (_can_consolidate, dtype), group_blocks \u001b[39min\u001b[39;00m grouper:\n\u001b[1;32m-> 2217\u001b[0m     merged_blocks, _ \u001b[39m=\u001b[39m _merge_blocks(\n\u001b[0;32m   2218\u001b[0m         \u001b[39mlist\u001b[39m(group_blocks), dtype\u001b[39m=\u001b[39mdtype, can_consolidate\u001b[39m=\u001b[39m_can_consolidate\n\u001b[0;32m   2219\u001b[0m     )\n\u001b[0;32m   2220\u001b[0m     new_blocks \u001b[39m=\u001b[39m extend_blocks(merged_blocks, new_blocks)\n\u001b[0;32m   2221\u001b[0m \u001b[39mreturn\u001b[39;00m \u001b[39mtuple\u001b[39m(new_blocks)\n",
      "File \u001b[1;32mc:\\Users\\Elke\\anaconda3\\envs\\projeto_prematuridade\\Lib\\site-packages\\pandas\\core\\internals\\managers.py:2252\u001b[0m, in \u001b[0;36m_merge_blocks\u001b[1;34m(blocks, dtype, can_consolidate)\u001b[0m\n\u001b[0;32m   2249\u001b[0m     new_values \u001b[39m=\u001b[39m new_values[argsort]\n\u001b[0;32m   2250\u001b[0m     new_mgr_locs \u001b[39m=\u001b[39m new_mgr_locs[argsort]\n\u001b[1;32m-> 2252\u001b[0m     bp \u001b[39m=\u001b[39m BlockPlacement(new_mgr_locs)\n\u001b[0;32m   2253\u001b[0m     \u001b[39mreturn\u001b[39;00m [new_block_2d(new_values, placement\u001b[39m=\u001b[39mbp)], \u001b[39mTrue\u001b[39;00m\n\u001b[0;32m   2255\u001b[0m \u001b[39m# can't consolidate --> no merge\u001b[39;00m\n",
      "\u001b[1;31mKeyboardInterrupt\u001b[0m: "
     ]
    }
   ],
   "source": [
    "\n",
    "def comparar_colunas_em_pastas(caminho_da_pasta):\n",
    "    # Lista todos os arquivos na pasta\n",
    "    arquivos_na_pasta = os.listdir(caminho_da_pasta)\n",
    "    \n",
    "    # Verifica se há pelo menos 2 arquivos na pasta\n",
    "    if len(arquivos_na_pasta) < 2:\n",
    "        print(\"Pelo menos dois DataFrames são necessários para fazer a comparação.\")\n",
    "        return\n",
    "    \n",
    "    # Le o primeiro DataFrame para obter as colunas de referência\n",
    "    primeiro_arquivo = os.path.join(caminho_da_pasta, arquivos_na_pasta[0])\n",
    "    df_referencia = pd.read_csv(primeiro_arquivo)  \n",
    "    \n",
    "    colunas_de_referencia = set(df_referencia.columns)\n",
    "    \n",
    "    # Loop através dos arquivos restantes na pasta\n",
    "    for arquivo in arquivos_na_pasta[1:]:\n",
    "        arquivo_atual = os.path.join(caminho_da_pasta, arquivo)\n",
    "        df_atual = pd.read_csv(arquivo_atual) \n",
    "        \n",
    "        # Verifica se as colunas do DataFrame atual são as mesmas que as colunas de referência\n",
    "        if set(df_atual.columns) != colunas_de_referencia:\n",
    "            print(f\"As colunas em {arquivo_atual} não correspondem às colunas em {primeiro_arquivo}.\")\n",
    "        #else:\n",
    "            #print(f\"As colunas em {arquivo_atual} são as mesmas que as colunas em {primeiro_arquivo}.\")\n",
    "\n",
    "caminho_da_pasta = \"SINASC_2018_ate_2020\"\n",
    "comparar_colunas_em_pastas(caminho_da_pasta)\n"
   ]
  },
  {
   "cell_type": "markdown",
   "id": "4c2bae5a",
   "metadata": {},
   "source": [
    "##### Obs: Todos os dataframes tem colunas iguais, logo, posso junta-los em um único"
   ]
  },
  {
   "cell_type": "code",
   "execution_count": 22,
   "id": "0098f031",
   "metadata": {},
   "outputs": [
    {
     "name": "stdout",
     "output_type": "stream",
     "text": [
      "SINASC_2018_ate_2020\\ETLSINASC.DNRES_AC_2018_t.csv\n",
      "SINASC_2018_ate_2020\\ETLSINASC.DNRES_AC_2019_t.csv\n",
      "SINASC_2018_ate_2020\\ETLSINASC.DNRES_AC_2020_t.csv\n",
      "SINASC_2018_ate_2020\\ETLSINASC.DNRES_AL_2018_t.csv\n",
      "SINASC_2018_ate_2020\\ETLSINASC.DNRES_AL_2019_t.csv\n",
      "SINASC_2018_ate_2020\\ETLSINASC.DNRES_AL_2020_t.csv\n",
      "SINASC_2018_ate_2020\\ETLSINASC.DNRES_AM_2018_t.csv\n",
      "SINASC_2018_ate_2020\\ETLSINASC.DNRES_AM_2019_t.csv\n",
      "SINASC_2018_ate_2020\\ETLSINASC.DNRES_AM_2020_t.csv\n",
      "SINASC_2018_ate_2020\\ETLSINASC.DNRES_AP_2018_t.csv\n",
      "SINASC_2018_ate_2020\\ETLSINASC.DNRES_AP_2019_t.csv\n",
      "SINASC_2018_ate_2020\\ETLSINASC.DNRES_AP_2020_t.csv\n",
      "SINASC_2018_ate_2020\\ETLSINASC.DNRES_BA_2018_t.csv\n",
      "SINASC_2018_ate_2020\\ETLSINASC.DNRES_BA_2019_t.csv\n",
      "SINASC_2018_ate_2020\\ETLSINASC.DNRES_BA_2020_t.csv\n",
      "SINASC_2018_ate_2020\\ETLSINASC.DNRES_CE_2018_t.csv\n",
      "SINASC_2018_ate_2020\\ETLSINASC.DNRES_CE_2019_t.csv\n",
      "SINASC_2018_ate_2020\\ETLSINASC.DNRES_CE_2020_t.csv\n",
      "SINASC_2018_ate_2020\\ETLSINASC.DNRES_DF_2018_t.csv\n",
      "SINASC_2018_ate_2020\\ETLSINASC.DNRES_DF_2019_t.csv\n",
      "SINASC_2018_ate_2020\\ETLSINASC.DNRES_DF_2020_t.csv\n",
      "SINASC_2018_ate_2020\\ETLSINASC.DNRES_ES_2018_t.csv\n",
      "SINASC_2018_ate_2020\\ETLSINASC.DNRES_ES_2019_t.csv\n",
      "SINASC_2018_ate_2020\\ETLSINASC.DNRES_ES_2020_t.csv\n",
      "SINASC_2018_ate_2020\\ETLSINASC.DNRES_GO_2018_t.csv\n",
      "SINASC_2018_ate_2020\\ETLSINASC.DNRES_GO_2019_t.csv\n",
      "SINASC_2018_ate_2020\\ETLSINASC.DNRES_GO_2020_t.csv\n",
      "SINASC_2018_ate_2020\\ETLSINASC.DNRES_MA_2018_t.csv\n",
      "SINASC_2018_ate_2020\\ETLSINASC.DNRES_MA_2019_t.csv\n",
      "SINASC_2018_ate_2020\\ETLSINASC.DNRES_MA_2020_t.csv\n",
      "SINASC_2018_ate_2020\\ETLSINASC.DNRES_MG_2018_t.csv\n",
      "SINASC_2018_ate_2020\\ETLSINASC.DNRES_MG_2019_t.csv\n",
      "SINASC_2018_ate_2020\\ETLSINASC.DNRES_MG_2020_t.csv\n",
      "SINASC_2018_ate_2020\\ETLSINASC.DNRES_MS_2018_t.csv\n",
      "SINASC_2018_ate_2020\\ETLSINASC.DNRES_MS_2019_t.csv\n",
      "SINASC_2018_ate_2020\\ETLSINASC.DNRES_MS_2020_t.csv\n",
      "SINASC_2018_ate_2020\\ETLSINASC.DNRES_MT_2018_t.csv\n",
      "SINASC_2018_ate_2020\\ETLSINASC.DNRES_MT_2019_t.csv\n",
      "SINASC_2018_ate_2020\\ETLSINASC.DNRES_MT_2020_t.csv\n",
      "SINASC_2018_ate_2020\\ETLSINASC.DNRES_PA_2018_t.csv\n",
      "SINASC_2018_ate_2020\\ETLSINASC.DNRES_PA_2019_t.csv\n",
      "SINASC_2018_ate_2020\\ETLSINASC.DNRES_PA_2020_t.csv\n",
      "SINASC_2018_ate_2020\\ETLSINASC.DNRES_PB_2018_t.csv\n",
      "SINASC_2018_ate_2020\\ETLSINASC.DNRES_PB_2019_t.csv\n",
      "SINASC_2018_ate_2020\\ETLSINASC.DNRES_PB_2020_t.csv\n",
      "SINASC_2018_ate_2020\\ETLSINASC.DNRES_PE_2018_t.csv\n",
      "SINASC_2018_ate_2020\\ETLSINASC.DNRES_PE_2019_t.csv\n",
      "SINASC_2018_ate_2020\\ETLSINASC.DNRES_PE_2020_t.csv\n",
      "SINASC_2018_ate_2020\\ETLSINASC.DNRES_PI_2018_t.csv\n",
      "SINASC_2018_ate_2020\\ETLSINASC.DNRES_PI_2019_t.csv\n",
      "SINASC_2018_ate_2020\\ETLSINASC.DNRES_PI_2020_t.csv\n",
      "SINASC_2018_ate_2020\\ETLSINASC.DNRES_PR_2018_t.csv\n",
      "SINASC_2018_ate_2020\\ETLSINASC.DNRES_PR_2019_t.csv\n",
      "SINASC_2018_ate_2020\\ETLSINASC.DNRES_PR_2020_t.csv\n",
      "SINASC_2018_ate_2020\\ETLSINASC.DNRES_RJ_2018_t.csv\n",
      "SINASC_2018_ate_2020\\ETLSINASC.DNRES_RJ_2019_t.csv\n",
      "SINASC_2018_ate_2020\\ETLSINASC.DNRES_RJ_2020_t.csv\n",
      "SINASC_2018_ate_2020\\ETLSINASC.DNRES_RN_2018_t.csv\n",
      "SINASC_2018_ate_2020\\ETLSINASC.DNRES_RN_2019_t.csv\n",
      "SINASC_2018_ate_2020\\ETLSINASC.DNRES_RN_2020_t.csv\n",
      "SINASC_2018_ate_2020\\ETLSINASC.DNRES_RO_2018_t.csv\n",
      "SINASC_2018_ate_2020\\ETLSINASC.DNRES_RO_2019_t.csv\n",
      "SINASC_2018_ate_2020\\ETLSINASC.DNRES_RO_2020_t.csv\n",
      "SINASC_2018_ate_2020\\ETLSINASC.DNRES_RR_2018_t.csv\n",
      "SINASC_2018_ate_2020\\ETLSINASC.DNRES_RR_2019_t.csv\n",
      "SINASC_2018_ate_2020\\ETLSINASC.DNRES_RR_2020_t.csv\n",
      "SINASC_2018_ate_2020\\ETLSINASC.DNRES_RS_2018_t.csv\n",
      "SINASC_2018_ate_2020\\ETLSINASC.DNRES_RS_2019_t.csv\n",
      "SINASC_2018_ate_2020\\ETLSINASC.DNRES_RS_2020_t.csv\n",
      "SINASC_2018_ate_2020\\ETLSINASC.DNRES_SC_2018_t.csv\n",
      "SINASC_2018_ate_2020\\ETLSINASC.DNRES_SC_2019_t.csv\n",
      "SINASC_2018_ate_2020\\ETLSINASC.DNRES_SC_2020_t.csv\n",
      "SINASC_2018_ate_2020\\ETLSINASC.DNRES_SE_2018_t.csv\n",
      "SINASC_2018_ate_2020\\ETLSINASC.DNRES_SE_2019_t.csv\n",
      "SINASC_2018_ate_2020\\ETLSINASC.DNRES_SE_2020_t.csv\n",
      "SINASC_2018_ate_2020\\ETLSINASC.DNRES_SP_2018_t.csv\n",
      "SINASC_2018_ate_2020\\ETLSINASC.DNRES_SP_2019_t.csv\n",
      "SINASC_2018_ate_2020\\ETLSINASC.DNRES_SP_2020_t.csv\n",
      "SINASC_2018_ate_2020\\ETLSINASC.DNRES_TO_2018_t.csv\n",
      "SINASC_2018_ate_2020\\ETLSINASC.DNRES_TO_2019_t.csv\n",
      "SINASC_2018_ate_2020\\ETLSINASC.DNRES_TO_2020_t.csv\n"
     ]
    }
   ],
   "source": [
    "\n",
    "pasta = 'SINASC_2018_ate_2020'  # Caminho da pasta\n",
    "\n",
    "# Verifica se o caminho da pasta é válido\n",
    "if os.path.exists(pasta):\n",
    "    # Inicializa uma lista para armazenar os caminhos relativos\n",
    "    caminhos_relativos = []\n",
    "\n",
    "    # Obtém a lista de arquivos na pasta\n",
    "    arquivos = os.listdir(pasta)\n",
    "\n",
    "    # Itera sobre os arquivos e obtem os caminhos relativos\n",
    "    for arquivo in arquivos:\n",
    "        caminho_relativo = os.path.join(pasta, arquivo)\n",
    "        caminhos_relativos.append(caminho_relativo)\n",
    "\n",
    "    # A lista de caminhos relativos esta pronta\n",
    "    for caminho in caminhos_relativos:\n",
    "        print(caminho)\n",
    "else:\n",
    "    print(\"O caminho da pasta não é válido.\")\n",
    "\n"
   ]
  },
  {
   "cell_type": "code",
   "execution_count": 23,
   "metadata": {},
   "outputs": [
    {
     "name": "stdout",
     "output_type": "stream",
     "text": [
      "['SINASC_2018_ate_2020\\\\ETLSINASC.DNRES_AC_2018_t.csv', 'SINASC_2018_ate_2020\\\\ETLSINASC.DNRES_AC_2019_t.csv', 'SINASC_2018_ate_2020\\\\ETLSINASC.DNRES_AC_2020_t.csv']\n"
     ]
    },
    {
     "name": "stderr",
     "output_type": "stream",
     "text": [
      "C:\\Users\\Elke\\AppData\\Local\\Temp\\ipykernel_9140\\484972375.py:11: DtypeWarning: Columns (117) have mixed types. Specify dtype option on import or set low_memory=False.\n",
      "  df = pd.read_csv(i, sep=\",\")\n"
     ]
    },
    {
     "name": "stdout",
     "output_type": "stream",
     "text": [
      "['SINASC_2018_ate_2020\\\\ETLSINASC.DNRES_AL_2018_t.csv', 'SINASC_2018_ate_2020\\\\ETLSINASC.DNRES_AL_2019_t.csv', 'SINASC_2018_ate_2020\\\\ETLSINASC.DNRES_AL_2020_t.csv']\n",
      "['SINASC_2018_ate_2020\\\\ETLSINASC.DNRES_AP_2018_t.csv', 'SINASC_2018_ate_2020\\\\ETLSINASC.DNRES_AP_2019_t.csv', 'SINASC_2018_ate_2020\\\\ETLSINASC.DNRES_AP_2020_t.csv']\n",
      "['SINASC_2018_ate_2020\\\\ETLSINASC.DNRES_AM_2018_t.csv', 'SINASC_2018_ate_2020\\\\ETLSINASC.DNRES_AM_2019_t.csv', 'SINASC_2018_ate_2020\\\\ETLSINASC.DNRES_AM_2020_t.csv']\n",
      "['SINASC_2018_ate_2020\\\\ETLSINASC.DNRES_BA_2018_t.csv', 'SINASC_2018_ate_2020\\\\ETLSINASC.DNRES_BA_2019_t.csv', 'SINASC_2018_ate_2020\\\\ETLSINASC.DNRES_BA_2020_t.csv']\n"
     ]
    },
    {
     "name": "stderr",
     "output_type": "stream",
     "text": [
      "C:\\Users\\Elke\\AppData\\Local\\Temp\\ipykernel_9140\\484972375.py:11: DtypeWarning: Columns (32) have mixed types. Specify dtype option on import or set low_memory=False.\n",
      "  df = pd.read_csv(i, sep=\",\")\n"
     ]
    },
    {
     "name": "stdout",
     "output_type": "stream",
     "text": [
      "['SINASC_2018_ate_2020\\\\ETLSINASC.DNRES_CE_2018_t.csv', 'SINASC_2018_ate_2020\\\\ETLSINASC.DNRES_CE_2019_t.csv', 'SINASC_2018_ate_2020\\\\ETLSINASC.DNRES_CE_2020_t.csv']\n",
      "['SINASC_2018_ate_2020\\\\ETLSINASC.DNRES_DF_2018_t.csv', 'SINASC_2018_ate_2020\\\\ETLSINASC.DNRES_DF_2019_t.csv', 'SINASC_2018_ate_2020\\\\ETLSINASC.DNRES_DF_2020_t.csv']\n"
     ]
    },
    {
     "name": "stderr",
     "output_type": "stream",
     "text": [
      "C:\\Users\\Elke\\AppData\\Local\\Temp\\ipykernel_9140\\484972375.py:11: DtypeWarning: Columns (32) have mixed types. Specify dtype option on import or set low_memory=False.\n",
      "  df = pd.read_csv(i, sep=\",\")\n"
     ]
    },
    {
     "name": "stdout",
     "output_type": "stream",
     "text": [
      "['SINASC_2018_ate_2020\\\\ETLSINASC.DNRES_ES_2018_t.csv', 'SINASC_2018_ate_2020\\\\ETLSINASC.DNRES_ES_2019_t.csv', 'SINASC_2018_ate_2020\\\\ETLSINASC.DNRES_ES_2020_t.csv']\n",
      "['SINASC_2018_ate_2020\\\\ETLSINASC.DNRES_GO_2018_t.csv', 'SINASC_2018_ate_2020\\\\ETLSINASC.DNRES_GO_2019_t.csv', 'SINASC_2018_ate_2020\\\\ETLSINASC.DNRES_GO_2020_t.csv']\n"
     ]
    },
    {
     "name": "stderr",
     "output_type": "stream",
     "text": [
      "C:\\Users\\Elke\\AppData\\Local\\Temp\\ipykernel_9140\\484972375.py:11: DtypeWarning: Columns (32) have mixed types. Specify dtype option on import or set low_memory=False.\n",
      "  df = pd.read_csv(i, sep=\",\")\n",
      "C:\\Users\\Elke\\AppData\\Local\\Temp\\ipykernel_9140\\484972375.py:11: DtypeWarning: Columns (32) have mixed types. Specify dtype option on import or set low_memory=False.\n",
      "  df = pd.read_csv(i, sep=\",\")\n",
      "C:\\Users\\Elke\\AppData\\Local\\Temp\\ipykernel_9140\\484972375.py:11: DtypeWarning: Columns (32) have mixed types. Specify dtype option on import or set low_memory=False.\n",
      "  df = pd.read_csv(i, sep=\",\")\n"
     ]
    },
    {
     "name": "stdout",
     "output_type": "stream",
     "text": [
      "['SINASC_2018_ate_2020\\\\ETLSINASC.DNRES_MA_2018_t.csv', 'SINASC_2018_ate_2020\\\\ETLSINASC.DNRES_MA_2019_t.csv', 'SINASC_2018_ate_2020\\\\ETLSINASC.DNRES_MA_2020_t.csv']\n",
      "['SINASC_2018_ate_2020\\\\ETLSINASC.DNRES_MT_2018_t.csv', 'SINASC_2018_ate_2020\\\\ETLSINASC.DNRES_MT_2019_t.csv', 'SINASC_2018_ate_2020\\\\ETLSINASC.DNRES_MT_2020_t.csv']\n"
     ]
    },
    {
     "name": "stderr",
     "output_type": "stream",
     "text": [
      "C:\\Users\\Elke\\AppData\\Local\\Temp\\ipykernel_9140\\484972375.py:11: DtypeWarning: Columns (117) have mixed types. Specify dtype option on import or set low_memory=False.\n",
      "  df = pd.read_csv(i, sep=\",\")\n"
     ]
    },
    {
     "name": "stdout",
     "output_type": "stream",
     "text": [
      "['SINASC_2018_ate_2020\\\\ETLSINASC.DNRES_MS_2018_t.csv', 'SINASC_2018_ate_2020\\\\ETLSINASC.DNRES_MS_2019_t.csv', 'SINASC_2018_ate_2020\\\\ETLSINASC.DNRES_MS_2020_t.csv']\n"
     ]
    },
    {
     "name": "stderr",
     "output_type": "stream",
     "text": [
      "C:\\Users\\Elke\\AppData\\Local\\Temp\\ipykernel_9140\\484972375.py:11: DtypeWarning: Columns (117) have mixed types. Specify dtype option on import or set low_memory=False.\n",
      "  df = pd.read_csv(i, sep=\",\")\n"
     ]
    },
    {
     "name": "stdout",
     "output_type": "stream",
     "text": [
      "['SINASC_2018_ate_2020\\\\ETLSINASC.DNRES_MG_2018_t.csv', 'SINASC_2018_ate_2020\\\\ETLSINASC.DNRES_MG_2019_t.csv', 'SINASC_2018_ate_2020\\\\ETLSINASC.DNRES_MG_2020_t.csv']\n"
     ]
    },
    {
     "name": "stderr",
     "output_type": "stream",
     "text": [
      "C:\\Users\\Elke\\AppData\\Local\\Temp\\ipykernel_9140\\484972375.py:11: DtypeWarning: Columns (32) have mixed types. Specify dtype option on import or set low_memory=False.\n",
      "  df = pd.read_csv(i, sep=\",\")\n"
     ]
    },
    {
     "name": "stdout",
     "output_type": "stream",
     "text": [
      "['SINASC_2018_ate_2020\\\\ETLSINASC.DNRES_PA_2018_t.csv', 'SINASC_2018_ate_2020\\\\ETLSINASC.DNRES_PA_2019_t.csv', 'SINASC_2018_ate_2020\\\\ETLSINASC.DNRES_PA_2020_t.csv']\n",
      "['SINASC_2018_ate_2020\\\\ETLSINASC.DNRES_PB_2018_t.csv', 'SINASC_2018_ate_2020\\\\ETLSINASC.DNRES_PB_2019_t.csv', 'SINASC_2018_ate_2020\\\\ETLSINASC.DNRES_PB_2020_t.csv']\n",
      "['SINASC_2018_ate_2020\\\\ETLSINASC.DNRES_PR_2018_t.csv', 'SINASC_2018_ate_2020\\\\ETLSINASC.DNRES_PR_2019_t.csv', 'SINASC_2018_ate_2020\\\\ETLSINASC.DNRES_PR_2020_t.csv']\n",
      "['SINASC_2018_ate_2020\\\\ETLSINASC.DNRES_PE_2018_t.csv', 'SINASC_2018_ate_2020\\\\ETLSINASC.DNRES_PE_2019_t.csv', 'SINASC_2018_ate_2020\\\\ETLSINASC.DNRES_PE_2020_t.csv']\n",
      "['SINASC_2018_ate_2020\\\\ETLSINASC.DNRES_PI_2018_t.csv', 'SINASC_2018_ate_2020\\\\ETLSINASC.DNRES_PI_2019_t.csv', 'SINASC_2018_ate_2020\\\\ETLSINASC.DNRES_PI_2020_t.csv']\n"
     ]
    },
    {
     "name": "stderr",
     "output_type": "stream",
     "text": [
      "C:\\Users\\Elke\\AppData\\Local\\Temp\\ipykernel_9140\\484972375.py:11: DtypeWarning: Columns (32) have mixed types. Specify dtype option on import or set low_memory=False.\n",
      "  df = pd.read_csv(i, sep=\",\")\n",
      "C:\\Users\\Elke\\AppData\\Local\\Temp\\ipykernel_9140\\484972375.py:11: DtypeWarning: Columns (32) have mixed types. Specify dtype option on import or set low_memory=False.\n",
      "  df = pd.read_csv(i, sep=\",\")\n"
     ]
    },
    {
     "name": "stdout",
     "output_type": "stream",
     "text": [
      "['SINASC_2018_ate_2020\\\\ETLSINASC.DNRES_RJ_2018_t.csv', 'SINASC_2018_ate_2020\\\\ETLSINASC.DNRES_RJ_2019_t.csv', 'SINASC_2018_ate_2020\\\\ETLSINASC.DNRES_RJ_2020_t.csv']\n",
      "['SINASC_2018_ate_2020\\\\ETLSINASC.DNRES_RN_2018_t.csv', 'SINASC_2018_ate_2020\\\\ETLSINASC.DNRES_RN_2019_t.csv', 'SINASC_2018_ate_2020\\\\ETLSINASC.DNRES_RN_2020_t.csv']\n",
      "['SINASC_2018_ate_2020\\\\ETLSINASC.DNRES_RS_2018_t.csv', 'SINASC_2018_ate_2020\\\\ETLSINASC.DNRES_RS_2019_t.csv', 'SINASC_2018_ate_2020\\\\ETLSINASC.DNRES_RS_2020_t.csv']\n",
      "['SINASC_2018_ate_2020\\\\ETLSINASC.DNRES_RO_2018_t.csv', 'SINASC_2018_ate_2020\\\\ETLSINASC.DNRES_RO_2019_t.csv', 'SINASC_2018_ate_2020\\\\ETLSINASC.DNRES_RO_2020_t.csv']\n",
      "['SINASC_2018_ate_2020\\\\ETLSINASC.DNRES_RR_2018_t.csv', 'SINASC_2018_ate_2020\\\\ETLSINASC.DNRES_RR_2019_t.csv', 'SINASC_2018_ate_2020\\\\ETLSINASC.DNRES_RR_2020_t.csv']\n",
      "['SINASC_2018_ate_2020\\\\ETLSINASC.DNRES_SC_2018_t.csv', 'SINASC_2018_ate_2020\\\\ETLSINASC.DNRES_SC_2019_t.csv', 'SINASC_2018_ate_2020\\\\ETLSINASC.DNRES_SC_2020_t.csv']\n",
      "['SINASC_2018_ate_2020\\\\ETLSINASC.DNRES_SP_2018_t.csv', 'SINASC_2018_ate_2020\\\\ETLSINASC.DNRES_SP_2019_t.csv', 'SINASC_2018_ate_2020\\\\ETLSINASC.DNRES_SP_2020_t.csv']\n",
      "['SINASC_2018_ate_2020\\\\ETLSINASC.DNRES_SE_2018_t.csv', 'SINASC_2018_ate_2020\\\\ETLSINASC.DNRES_SE_2019_t.csv', 'SINASC_2018_ate_2020\\\\ETLSINASC.DNRES_SE_2020_t.csv']\n",
      "['SINASC_2018_ate_2020\\\\ETLSINASC.DNRES_TO_2018_t.csv', 'SINASC_2018_ate_2020\\\\ETLSINASC.DNRES_TO_2019_t.csv', 'SINASC_2018_ate_2020\\\\ETLSINASC.DNRES_TO_2020_t.csv']\n"
     ]
    },
    {
     "name": "stderr",
     "output_type": "stream",
     "text": [
      "C:\\Users\\Elke\\AppData\\Local\\Temp\\ipykernel_9140\\484972375.py:11: DtypeWarning: Columns (32) have mixed types. Specify dtype option on import or set low_memory=False.\n",
      "  df = pd.read_csv(i, sep=\",\")\n"
     ]
    }
   ],
   "source": [
    "def insere_coluna_estado_nascimento(estados, lista_caminhos, caminho_pasta_destino):\n",
    "    for estado in estados:\n",
    "        estado_e_caractere =  \"_\" + estado + \"_\"\n",
    "        lista_estado = [nome for nome in lista_caminhos if estado_e_caractere in nome]\n",
    "        print(lista_estado)\n",
    "\n",
    "        for i in lista_estado:\n",
    "            partes = i.split(\"\\\\\")\n",
    "            nome_do_df = partes[-1]\n",
    "\n",
    "            df = pd.read_csv(i, sep=\",\")\n",
    "            df['estado_nascimento'] = estado\n",
    "\n",
    "            caminho_completo = os.path.join(caminho_pasta_destino, nome_do_df)\n",
    "\n",
    "            df.to_csv(caminho_completo, index=False)\n",
    "\n",
    "# Exemplo de chamada da função com uma lista de estados\n",
    "estados = [\n",
    "    'AC', 'AL', 'AP', 'AM', 'BA', 'CE', 'DF', 'ES', 'GO', 'MA', 'MT', 'MS',\n",
    "    'MG', 'PA', 'PB', 'PR', 'PE', 'PI', 'RJ', 'RN', 'RS', 'RO', 'RR', 'SC',\n",
    "    'SP', 'SE', 'TO'\n",
    "] # Substitua pelos estados que deseja\n",
    "lista_caminhos = caminhos_relativos\n",
    "caminho_pasta_destino = 'SINASC_2018_ate_2020_estados'\n",
    "\n",
    "insere_coluna_estado_nascimento(estados, lista_caminhos, caminho_pasta_destino)"
   ]
  },
  {
   "cell_type": "code",
   "execution_count": 24,
   "id": "dcd8d0a9",
   "metadata": {},
   "outputs": [
    {
     "name": "stdout",
     "output_type": "stream",
     "text": [
      "SINASC_2018_ate_2020_estados\\ETLSINASC.DNRES_AC_2018_t.csv\n",
      "SINASC_2018_ate_2020_estados\\ETLSINASC.DNRES_AC_2019_t.csv\n",
      "SINASC_2018_ate_2020_estados\\ETLSINASC.DNRES_AC_2020_t.csv\n",
      "SINASC_2018_ate_2020_estados\\ETLSINASC.DNRES_AL_2018_t.csv\n",
      "SINASC_2018_ate_2020_estados\\ETLSINASC.DNRES_AL_2019_t.csv\n",
      "SINASC_2018_ate_2020_estados\\ETLSINASC.DNRES_AL_2020_t.csv\n",
      "SINASC_2018_ate_2020_estados\\ETLSINASC.DNRES_AM_2018_t.csv\n",
      "SINASC_2018_ate_2020_estados\\ETLSINASC.DNRES_AM_2019_t.csv\n",
      "SINASC_2018_ate_2020_estados\\ETLSINASC.DNRES_AM_2020_t.csv\n",
      "SINASC_2018_ate_2020_estados\\ETLSINASC.DNRES_AP_2018_t.csv\n",
      "SINASC_2018_ate_2020_estados\\ETLSINASC.DNRES_AP_2019_t.csv\n",
      "SINASC_2018_ate_2020_estados\\ETLSINASC.DNRES_AP_2020_t.csv\n",
      "SINASC_2018_ate_2020_estados\\ETLSINASC.DNRES_BA_2018_t.csv\n",
      "SINASC_2018_ate_2020_estados\\ETLSINASC.DNRES_BA_2019_t.csv\n",
      "SINASC_2018_ate_2020_estados\\ETLSINASC.DNRES_BA_2020_t.csv\n",
      "SINASC_2018_ate_2020_estados\\ETLSINASC.DNRES_CE_2018_t.csv\n",
      "SINASC_2018_ate_2020_estados\\ETLSINASC.DNRES_CE_2019_t.csv\n",
      "SINASC_2018_ate_2020_estados\\ETLSINASC.DNRES_CE_2020_t.csv\n",
      "SINASC_2018_ate_2020_estados\\ETLSINASC.DNRES_DF_2018_t.csv\n",
      "SINASC_2018_ate_2020_estados\\ETLSINASC.DNRES_DF_2019_t.csv\n",
      "SINASC_2018_ate_2020_estados\\ETLSINASC.DNRES_DF_2020_t.csv\n",
      "SINASC_2018_ate_2020_estados\\ETLSINASC.DNRES_ES_2018_t.csv\n",
      "SINASC_2018_ate_2020_estados\\ETLSINASC.DNRES_ES_2019_t.csv\n",
      "SINASC_2018_ate_2020_estados\\ETLSINASC.DNRES_ES_2020_t.csv\n",
      "SINASC_2018_ate_2020_estados\\ETLSINASC.DNRES_GO_2018_t.csv\n",
      "SINASC_2018_ate_2020_estados\\ETLSINASC.DNRES_GO_2019_t.csv\n",
      "SINASC_2018_ate_2020_estados\\ETLSINASC.DNRES_GO_2020_t.csv\n",
      "SINASC_2018_ate_2020_estados\\ETLSINASC.DNRES_MA_2018_t.csv\n",
      "SINASC_2018_ate_2020_estados\\ETLSINASC.DNRES_MA_2019_t.csv\n",
      "SINASC_2018_ate_2020_estados\\ETLSINASC.DNRES_MA_2020_t.csv\n",
      "SINASC_2018_ate_2020_estados\\ETLSINASC.DNRES_MG_2018_t.csv\n",
      "SINASC_2018_ate_2020_estados\\ETLSINASC.DNRES_MG_2019_t.csv\n",
      "SINASC_2018_ate_2020_estados\\ETLSINASC.DNRES_MG_2020_t.csv\n",
      "SINASC_2018_ate_2020_estados\\ETLSINASC.DNRES_MS_2018_t.csv\n",
      "SINASC_2018_ate_2020_estados\\ETLSINASC.DNRES_MS_2019_t.csv\n",
      "SINASC_2018_ate_2020_estados\\ETLSINASC.DNRES_MS_2020_t.csv\n",
      "SINASC_2018_ate_2020_estados\\ETLSINASC.DNRES_MT_2018_t.csv\n",
      "SINASC_2018_ate_2020_estados\\ETLSINASC.DNRES_MT_2019_t.csv\n",
      "SINASC_2018_ate_2020_estados\\ETLSINASC.DNRES_MT_2020_t.csv\n",
      "SINASC_2018_ate_2020_estados\\ETLSINASC.DNRES_PA_2018_t.csv\n",
      "SINASC_2018_ate_2020_estados\\ETLSINASC.DNRES_PA_2019_t.csv\n",
      "SINASC_2018_ate_2020_estados\\ETLSINASC.DNRES_PA_2020_t.csv\n",
      "SINASC_2018_ate_2020_estados\\ETLSINASC.DNRES_PB_2018_t.csv\n",
      "SINASC_2018_ate_2020_estados\\ETLSINASC.DNRES_PB_2019_t.csv\n",
      "SINASC_2018_ate_2020_estados\\ETLSINASC.DNRES_PB_2020_t.csv\n",
      "SINASC_2018_ate_2020_estados\\ETLSINASC.DNRES_PE_2018_t.csv\n",
      "SINASC_2018_ate_2020_estados\\ETLSINASC.DNRES_PE_2019_t.csv\n",
      "SINASC_2018_ate_2020_estados\\ETLSINASC.DNRES_PE_2020_t.csv\n",
      "SINASC_2018_ate_2020_estados\\ETLSINASC.DNRES_PI_2018_t.csv\n",
      "SINASC_2018_ate_2020_estados\\ETLSINASC.DNRES_PI_2019_t.csv\n",
      "SINASC_2018_ate_2020_estados\\ETLSINASC.DNRES_PI_2020_t.csv\n",
      "SINASC_2018_ate_2020_estados\\ETLSINASC.DNRES_PR_2018_t.csv\n",
      "SINASC_2018_ate_2020_estados\\ETLSINASC.DNRES_PR_2019_t.csv\n",
      "SINASC_2018_ate_2020_estados\\ETLSINASC.DNRES_PR_2020_t.csv\n",
      "SINASC_2018_ate_2020_estados\\ETLSINASC.DNRES_RJ_2018_t.csv\n",
      "SINASC_2018_ate_2020_estados\\ETLSINASC.DNRES_RJ_2019_t.csv\n",
      "SINASC_2018_ate_2020_estados\\ETLSINASC.DNRES_RJ_2020_t.csv\n",
      "SINASC_2018_ate_2020_estados\\ETLSINASC.DNRES_RN_2018_t.csv\n",
      "SINASC_2018_ate_2020_estados\\ETLSINASC.DNRES_RN_2019_t.csv\n",
      "SINASC_2018_ate_2020_estados\\ETLSINASC.DNRES_RN_2020_t.csv\n",
      "SINASC_2018_ate_2020_estados\\ETLSINASC.DNRES_RO_2018_t.csv\n",
      "SINASC_2018_ate_2020_estados\\ETLSINASC.DNRES_RO_2019_t.csv\n",
      "SINASC_2018_ate_2020_estados\\ETLSINASC.DNRES_RO_2020_t.csv\n",
      "SINASC_2018_ate_2020_estados\\ETLSINASC.DNRES_RR_2018_t.csv\n",
      "SINASC_2018_ate_2020_estados\\ETLSINASC.DNRES_RR_2019_t.csv\n",
      "SINASC_2018_ate_2020_estados\\ETLSINASC.DNRES_RR_2020_t.csv\n",
      "SINASC_2018_ate_2020_estados\\ETLSINASC.DNRES_RS_2018_t.csv\n",
      "SINASC_2018_ate_2020_estados\\ETLSINASC.DNRES_RS_2019_t.csv\n",
      "SINASC_2018_ate_2020_estados\\ETLSINASC.DNRES_RS_2020_t.csv\n",
      "SINASC_2018_ate_2020_estados\\ETLSINASC.DNRES_SC_2018_t.csv\n",
      "SINASC_2018_ate_2020_estados\\ETLSINASC.DNRES_SC_2019_t.csv\n",
      "SINASC_2018_ate_2020_estados\\ETLSINASC.DNRES_SC_2020_t.csv\n",
      "SINASC_2018_ate_2020_estados\\ETLSINASC.DNRES_SE_2018_t.csv\n",
      "SINASC_2018_ate_2020_estados\\ETLSINASC.DNRES_SE_2019_t.csv\n",
      "SINASC_2018_ate_2020_estados\\ETLSINASC.DNRES_SE_2020_t.csv\n",
      "SINASC_2018_ate_2020_estados\\ETLSINASC.DNRES_SP_2018_t.csv\n",
      "SINASC_2018_ate_2020_estados\\ETLSINASC.DNRES_SP_2019_t.csv\n",
      "SINASC_2018_ate_2020_estados\\ETLSINASC.DNRES_SP_2020_t.csv\n",
      "SINASC_2018_ate_2020_estados\\ETLSINASC.DNRES_TO_2018_t.csv\n",
      "SINASC_2018_ate_2020_estados\\ETLSINASC.DNRES_TO_2019_t.csv\n",
      "SINASC_2018_ate_2020_estados\\ETLSINASC.DNRES_TO_2020_t.csv\n"
     ]
    }
   ],
   "source": [
    "pasta = 'SINASC_2018_ate_2020_estados'  # Caminho da pasta\n",
    "\n",
    "# Verifica se o caminho da pasta é válido\n",
    "if os.path.exists(pasta):\n",
    "    # Inicializa uma lista para armazenar os caminhos relativos\n",
    "    caminhos_relativos = []\n",
    "\n",
    "    # Obtém a lista de arquivos na pasta\n",
    "    arquivos = os.listdir(pasta)\n",
    "\n",
    "    # Itera sobre os arquivos e obtem os caminhos relativos\n",
    "    for arquivo in arquivos:\n",
    "        caminho_relativo = os.path.join(pasta, arquivo)\n",
    "        caminhos_relativos.append(caminho_relativo)\n",
    "\n",
    "    # A lista de caminhos relativos esta pronta\n",
    "    for caminho in caminhos_relativos:\n",
    "        print(caminho)\n",
    "else:\n",
    "    print(\"O caminho da pasta não é válido.\")"
   ]
  },
  {
   "cell_type": "code",
   "execution_count": 25,
   "metadata": {},
   "outputs": [
    {
     "name": "stderr",
     "output_type": "stream",
     "text": [
      "C:\\Users\\Elke\\AppData\\Local\\Temp\\ipykernel_9140\\1848895218.py:6: DtypeWarning: Columns (117) have mixed types. Specify dtype option on import or set low_memory=False.\n",
      "  df = pd.read_csv(caminho,sep=',')\n",
      "C:\\Users\\Elke\\AppData\\Local\\Temp\\ipykernel_9140\\1848895218.py:6: DtypeWarning: Columns (32) have mixed types. Specify dtype option on import or set low_memory=False.\n",
      "  df = pd.read_csv(caminho,sep=',')\n",
      "C:\\Users\\Elke\\AppData\\Local\\Temp\\ipykernel_9140\\1848895218.py:6: DtypeWarning: Columns (32) have mixed types. Specify dtype option on import or set low_memory=False.\n",
      "  df = pd.read_csv(caminho,sep=',')\n",
      "C:\\Users\\Elke\\AppData\\Local\\Temp\\ipykernel_9140\\1848895218.py:6: DtypeWarning: Columns (32) have mixed types. Specify dtype option on import or set low_memory=False.\n",
      "  df = pd.read_csv(caminho,sep=',')\n",
      "C:\\Users\\Elke\\AppData\\Local\\Temp\\ipykernel_9140\\1848895218.py:6: DtypeWarning: Columns (32) have mixed types. Specify dtype option on import or set low_memory=False.\n",
      "  df = pd.read_csv(caminho,sep=',')\n",
      "C:\\Users\\Elke\\AppData\\Local\\Temp\\ipykernel_9140\\1848895218.py:6: DtypeWarning: Columns (32) have mixed types. Specify dtype option on import or set low_memory=False.\n",
      "  df = pd.read_csv(caminho,sep=',')\n",
      "C:\\Users\\Elke\\AppData\\Local\\Temp\\ipykernel_9140\\1848895218.py:6: DtypeWarning: Columns (32) have mixed types. Specify dtype option on import or set low_memory=False.\n",
      "  df = pd.read_csv(caminho,sep=',')\n",
      "C:\\Users\\Elke\\AppData\\Local\\Temp\\ipykernel_9140\\1848895218.py:6: DtypeWarning: Columns (117) have mixed types. Specify dtype option on import or set low_memory=False.\n",
      "  df = pd.read_csv(caminho,sep=',')\n",
      "C:\\Users\\Elke\\AppData\\Local\\Temp\\ipykernel_9140\\1848895218.py:6: DtypeWarning: Columns (117) have mixed types. Specify dtype option on import or set low_memory=False.\n",
      "  df = pd.read_csv(caminho,sep=',')\n",
      "C:\\Users\\Elke\\AppData\\Local\\Temp\\ipykernel_9140\\1848895218.py:6: DtypeWarning: Columns (32) have mixed types. Specify dtype option on import or set low_memory=False.\n",
      "  df = pd.read_csv(caminho,sep=',')\n",
      "C:\\Users\\Elke\\AppData\\Local\\Temp\\ipykernel_9140\\1848895218.py:6: DtypeWarning: Columns (32) have mixed types. Specify dtype option on import or set low_memory=False.\n",
      "  df = pd.read_csv(caminho,sep=',')\n",
      "C:\\Users\\Elke\\AppData\\Local\\Temp\\ipykernel_9140\\1848895218.py:6: DtypeWarning: Columns (32) have mixed types. Specify dtype option on import or set low_memory=False.\n",
      "  df = pd.read_csv(caminho,sep=',')\n"
     ]
    }
   ],
   "source": [
    "def retira_colunas_e_linhas_nan_de_dataframes_e_salva(lista_caminhos, pasta_destino):\n",
    "\n",
    "    for caminho in lista_caminhos:\n",
    "\n",
    "        # Carrega o DataFrame a partir do arquivo CSV\n",
    "        df = pd.read_csv(caminho,sep=',')\n",
    "\n",
    "        # Remove colunas com todos os valores NaN\n",
    "        df = df.dropna(axis=1, how='all')\n",
    "\n",
    "        # Remove linhas com valores NaN\n",
    "        df = df.dropna(axis=0, how='all')\n",
    "\n",
    "        # Remove linhas duplicadas\n",
    "        df = df.drop_duplicates()\n",
    "\n",
    "        # Extrai o nome do arquivo do caminho\n",
    "        nome_arquivo = os.path.basename(caminho)\n",
    "\n",
    "        # Caminho de destino para salvar o DataFrame processado\n",
    "        caminho_destino = os.path.join(pasta_destino, nome_arquivo)\n",
    "\n",
    "        # Salva o DataFrame processado como arquivo CSV\n",
    "        df.to_csv(caminho_destino, index=False)\n",
    "\n",
    "\n",
    "lista_caminhos = caminhos_relativos\n",
    "pasta_destino = 'SINASC_2018_ate_2020_estados_processado'\n",
    "retira_colunas_e_linhas_nan_de_dataframes_e_salva(caminhos_relativos, pasta_destino)\n",
    "\n"
   ]
  },
  {
   "cell_type": "markdown",
   "metadata": {},
   "source": [
    "# 3. Concatenação de DataFrames"
   ]
  },
  {
   "cell_type": "code",
   "execution_count": 28,
   "metadata": {},
   "outputs": [
    {
     "name": "stdout",
     "output_type": "stream",
     "text": [
      "SINASC_2018_ate_2020_estados_processado\\ETLSINASC.DNRES_AC_2018_t.csv\n",
      "SINASC_2018_ate_2020_estados_processado\\ETLSINASC.DNRES_AC_2019_t.csv\n",
      "SINASC_2018_ate_2020_estados_processado\\ETLSINASC.DNRES_AC_2020_t.csv\n",
      "SINASC_2018_ate_2020_estados_processado\\ETLSINASC.DNRES_AL_2018_t.csv\n",
      "SINASC_2018_ate_2020_estados_processado\\ETLSINASC.DNRES_AL_2019_t.csv\n",
      "SINASC_2018_ate_2020_estados_processado\\ETLSINASC.DNRES_AL_2020_t.csv\n",
      "SINASC_2018_ate_2020_estados_processado\\ETLSINASC.DNRES_AM_2018_t.csv\n",
      "SINASC_2018_ate_2020_estados_processado\\ETLSINASC.DNRES_AM_2019_t.csv\n",
      "SINASC_2018_ate_2020_estados_processado\\ETLSINASC.DNRES_AM_2020_t.csv\n",
      "SINASC_2018_ate_2020_estados_processado\\ETLSINASC.DNRES_AP_2018_t.csv\n",
      "SINASC_2018_ate_2020_estados_processado\\ETLSINASC.DNRES_AP_2019_t.csv\n",
      "SINASC_2018_ate_2020_estados_processado\\ETLSINASC.DNRES_AP_2020_t.csv\n",
      "SINASC_2018_ate_2020_estados_processado\\ETLSINASC.DNRES_BA_2018_t.csv\n",
      "SINASC_2018_ate_2020_estados_processado\\ETLSINASC.DNRES_BA_2019_t.csv\n",
      "SINASC_2018_ate_2020_estados_processado\\ETLSINASC.DNRES_BA_2020_t.csv\n",
      "SINASC_2018_ate_2020_estados_processado\\ETLSINASC.DNRES_CE_2018_t.csv\n",
      "SINASC_2018_ate_2020_estados_processado\\ETLSINASC.DNRES_CE_2019_t.csv\n",
      "SINASC_2018_ate_2020_estados_processado\\ETLSINASC.DNRES_CE_2020_t.csv\n",
      "SINASC_2018_ate_2020_estados_processado\\ETLSINASC.DNRES_DF_2018_t.csv\n",
      "SINASC_2018_ate_2020_estados_processado\\ETLSINASC.DNRES_DF_2019_t.csv\n",
      "SINASC_2018_ate_2020_estados_processado\\ETLSINASC.DNRES_DF_2020_t.csv\n",
      "SINASC_2018_ate_2020_estados_processado\\ETLSINASC.DNRES_ES_2018_t.csv\n",
      "SINASC_2018_ate_2020_estados_processado\\ETLSINASC.DNRES_ES_2019_t.csv\n",
      "SINASC_2018_ate_2020_estados_processado\\ETLSINASC.DNRES_ES_2020_t.csv\n",
      "SINASC_2018_ate_2020_estados_processado\\ETLSINASC.DNRES_GO_2018_t.csv\n",
      "SINASC_2018_ate_2020_estados_processado\\ETLSINASC.DNRES_GO_2019_t.csv\n",
      "SINASC_2018_ate_2020_estados_processado\\ETLSINASC.DNRES_GO_2020_t.csv\n",
      "SINASC_2018_ate_2020_estados_processado\\ETLSINASC.DNRES_MA_2018_t.csv\n",
      "SINASC_2018_ate_2020_estados_processado\\ETLSINASC.DNRES_MA_2019_t.csv\n",
      "SINASC_2018_ate_2020_estados_processado\\ETLSINASC.DNRES_MA_2020_t.csv\n",
      "SINASC_2018_ate_2020_estados_processado\\ETLSINASC.DNRES_MG_2018_t.csv\n",
      "SINASC_2018_ate_2020_estados_processado\\ETLSINASC.DNRES_MG_2019_t.csv\n",
      "SINASC_2018_ate_2020_estados_processado\\ETLSINASC.DNRES_MG_2020_t.csv\n",
      "SINASC_2018_ate_2020_estados_processado\\ETLSINASC.DNRES_MS_2018_t.csv\n",
      "SINASC_2018_ate_2020_estados_processado\\ETLSINASC.DNRES_MS_2019_t.csv\n",
      "SINASC_2018_ate_2020_estados_processado\\ETLSINASC.DNRES_MS_2020_t.csv\n",
      "SINASC_2018_ate_2020_estados_processado\\ETLSINASC.DNRES_MT_2018_t.csv\n",
      "SINASC_2018_ate_2020_estados_processado\\ETLSINASC.DNRES_MT_2019_t.csv\n",
      "SINASC_2018_ate_2020_estados_processado\\ETLSINASC.DNRES_MT_2020_t.csv\n",
      "SINASC_2018_ate_2020_estados_processado\\ETLSINASC.DNRES_PA_2018_t.csv\n",
      "SINASC_2018_ate_2020_estados_processado\\ETLSINASC.DNRES_PA_2019_t.csv\n",
      "SINASC_2018_ate_2020_estados_processado\\ETLSINASC.DNRES_PA_2020_t.csv\n",
      "SINASC_2018_ate_2020_estados_processado\\ETLSINASC.DNRES_PB_2018_t.csv\n",
      "SINASC_2018_ate_2020_estados_processado\\ETLSINASC.DNRES_PB_2019_t.csv\n",
      "SINASC_2018_ate_2020_estados_processado\\ETLSINASC.DNRES_PB_2020_t.csv\n",
      "SINASC_2018_ate_2020_estados_processado\\ETLSINASC.DNRES_PE_2018_t.csv\n",
      "SINASC_2018_ate_2020_estados_processado\\ETLSINASC.DNRES_PE_2019_t.csv\n",
      "SINASC_2018_ate_2020_estados_processado\\ETLSINASC.DNRES_PE_2020_t.csv\n",
      "SINASC_2018_ate_2020_estados_processado\\ETLSINASC.DNRES_PI_2018_t.csv\n",
      "SINASC_2018_ate_2020_estados_processado\\ETLSINASC.DNRES_PI_2019_t.csv\n",
      "SINASC_2018_ate_2020_estados_processado\\ETLSINASC.DNRES_PI_2020_t.csv\n",
      "SINASC_2018_ate_2020_estados_processado\\ETLSINASC.DNRES_PR_2018_t.csv\n",
      "SINASC_2018_ate_2020_estados_processado\\ETLSINASC.DNRES_PR_2019_t.csv\n",
      "SINASC_2018_ate_2020_estados_processado\\ETLSINASC.DNRES_PR_2020_t.csv\n",
      "SINASC_2018_ate_2020_estados_processado\\ETLSINASC.DNRES_RJ_2018_t.csv\n",
      "SINASC_2018_ate_2020_estados_processado\\ETLSINASC.DNRES_RJ_2019_t.csv\n",
      "SINASC_2018_ate_2020_estados_processado\\ETLSINASC.DNRES_RJ_2020_t.csv\n",
      "SINASC_2018_ate_2020_estados_processado\\ETLSINASC.DNRES_RN_2018_t.csv\n",
      "SINASC_2018_ate_2020_estados_processado\\ETLSINASC.DNRES_RN_2019_t.csv\n",
      "SINASC_2018_ate_2020_estados_processado\\ETLSINASC.DNRES_RN_2020_t.csv\n",
      "SINASC_2018_ate_2020_estados_processado\\ETLSINASC.DNRES_RO_2018_t.csv\n",
      "SINASC_2018_ate_2020_estados_processado\\ETLSINASC.DNRES_RO_2019_t.csv\n",
      "SINASC_2018_ate_2020_estados_processado\\ETLSINASC.DNRES_RO_2020_t.csv\n",
      "SINASC_2018_ate_2020_estados_processado\\ETLSINASC.DNRES_RR_2018_t.csv\n",
      "SINASC_2018_ate_2020_estados_processado\\ETLSINASC.DNRES_RR_2019_t.csv\n",
      "SINASC_2018_ate_2020_estados_processado\\ETLSINASC.DNRES_RR_2020_t.csv\n",
      "SINASC_2018_ate_2020_estados_processado\\ETLSINASC.DNRES_RS_2018_t.csv\n",
      "SINASC_2018_ate_2020_estados_processado\\ETLSINASC.DNRES_RS_2019_t.csv\n",
      "SINASC_2018_ate_2020_estados_processado\\ETLSINASC.DNRES_RS_2020_t.csv\n",
      "SINASC_2018_ate_2020_estados_processado\\ETLSINASC.DNRES_SC_2018_t.csv\n",
      "SINASC_2018_ate_2020_estados_processado\\ETLSINASC.DNRES_SC_2019_t.csv\n",
      "SINASC_2018_ate_2020_estados_processado\\ETLSINASC.DNRES_SC_2020_t.csv\n",
      "SINASC_2018_ate_2020_estados_processado\\ETLSINASC.DNRES_SE_2018_t.csv\n",
      "SINASC_2018_ate_2020_estados_processado\\ETLSINASC.DNRES_SE_2019_t.csv\n",
      "SINASC_2018_ate_2020_estados_processado\\ETLSINASC.DNRES_SE_2020_t.csv\n",
      "SINASC_2018_ate_2020_estados_processado\\ETLSINASC.DNRES_SP_2018_t.csv\n",
      "SINASC_2018_ate_2020_estados_processado\\ETLSINASC.DNRES_SP_2019_t.csv\n",
      "SINASC_2018_ate_2020_estados_processado\\ETLSINASC.DNRES_SP_2020_t.csv\n",
      "SINASC_2018_ate_2020_estados_processado\\ETLSINASC.DNRES_TO_2018_t.csv\n",
      "SINASC_2018_ate_2020_estados_processado\\ETLSINASC.DNRES_TO_2019_t.csv\n",
      "SINASC_2018_ate_2020_estados_processado\\ETLSINASC.DNRES_TO_2020_t.csv\n"
     ]
    }
   ],
   "source": [
    "pasta = 'SINASC_2018_ate_2020_estados_processado'  # Caminho da pasta\n",
    "\n",
    "# Verifica se o caminho da pasta é válido\n",
    "if os.path.exists(pasta):\n",
    "    # Inicializa uma lista para armazenar os caminhos relativos\n",
    "    caminhos_relativos = []\n",
    "\n",
    "    # Obtém a lista de arquivos na pasta\n",
    "    arquivos = os.listdir(pasta)\n",
    "\n",
    "    # Itera sobre os arquivos e obtem os caminhos relativos\n",
    "    for arquivo in arquivos:\n",
    "        caminho_relativo = os.path.join(pasta, arquivo)\n",
    "        caminhos_relativos.append(caminho_relativo)\n",
    "\n",
    "    # A lista de caminhos relativos esta pronta\n",
    "    for caminho in caminhos_relativos:\n",
    "        print(caminho)\n",
    "else:\n",
    "    print(\"O caminho da pasta não é válido.\")"
   ]
  },
  {
   "cell_type": "code",
   "execution_count": 29,
   "id": "103b3cbe",
   "metadata": {},
   "outputs": [
    {
     "name": "stderr",
     "output_type": "stream",
     "text": [
      "C:\\Users\\Elke\\AppData\\Local\\Temp\\ipykernel_9140\\3330034155.py:2: DtypeWarning: Columns (112) have mixed types. Specify dtype option on import or set low_memory=False.\n",
      "  df_merged = pd.read_csv(caminhos_relativos[0],sep=',')\n",
      "C:\\Users\\Elke\\AppData\\Local\\Temp\\ipykernel_9140\\3330034155.py:5: DtypeWarning: Columns (31) have mixed types. Specify dtype option on import or set low_memory=False.\n",
      "  df = pd.read_csv(caminhos_relativos[i],sep=',')\n",
      "C:\\Users\\Elke\\AppData\\Local\\Temp\\ipykernel_9140\\3330034155.py:5: DtypeWarning: Columns (31) have mixed types. Specify dtype option on import or set low_memory=False.\n",
      "  df = pd.read_csv(caminhos_relativos[i],sep=',')\n",
      "C:\\Users\\Elke\\AppData\\Local\\Temp\\ipykernel_9140\\3330034155.py:5: DtypeWarning: Columns (31) have mixed types. Specify dtype option on import or set low_memory=False.\n",
      "  df = pd.read_csv(caminhos_relativos[i],sep=',')\n",
      "C:\\Users\\Elke\\AppData\\Local\\Temp\\ipykernel_9140\\3330034155.py:5: DtypeWarning: Columns (31) have mixed types. Specify dtype option on import or set low_memory=False.\n",
      "  df = pd.read_csv(caminhos_relativos[i],sep=',')\n",
      "C:\\Users\\Elke\\AppData\\Local\\Temp\\ipykernel_9140\\3330034155.py:5: DtypeWarning: Columns (31) have mixed types. Specify dtype option on import or set low_memory=False.\n",
      "  df = pd.read_csv(caminhos_relativos[i],sep=',')\n",
      "C:\\Users\\Elke\\AppData\\Local\\Temp\\ipykernel_9140\\3330034155.py:5: DtypeWarning: Columns (31) have mixed types. Specify dtype option on import or set low_memory=False.\n",
      "  df = pd.read_csv(caminhos_relativos[i],sep=',')\n",
      "C:\\Users\\Elke\\AppData\\Local\\Temp\\ipykernel_9140\\3330034155.py:5: DtypeWarning: Columns (112) have mixed types. Specify dtype option on import or set low_memory=False.\n",
      "  df = pd.read_csv(caminhos_relativos[i],sep=',')\n",
      "C:\\Users\\Elke\\AppData\\Local\\Temp\\ipykernel_9140\\3330034155.py:5: DtypeWarning: Columns (112) have mixed types. Specify dtype option on import or set low_memory=False.\n",
      "  df = pd.read_csv(caminhos_relativos[i],sep=',')\n",
      "C:\\Users\\Elke\\AppData\\Local\\Temp\\ipykernel_9140\\3330034155.py:5: DtypeWarning: Columns (31) have mixed types. Specify dtype option on import or set low_memory=False.\n",
      "  df = pd.read_csv(caminhos_relativos[i],sep=',')\n",
      "C:\\Users\\Elke\\AppData\\Local\\Temp\\ipykernel_9140\\3330034155.py:5: DtypeWarning: Columns (31) have mixed types. Specify dtype option on import or set low_memory=False.\n",
      "  df = pd.read_csv(caminhos_relativos[i],sep=',')\n",
      "C:\\Users\\Elke\\AppData\\Local\\Temp\\ipykernel_9140\\3330034155.py:5: DtypeWarning: Columns (31) have mixed types. Specify dtype option on import or set low_memory=False.\n",
      "  df = pd.read_csv(caminhos_relativos[i],sep=',')\n"
     ]
    }
   ],
   "source": [
    "def concatena_dfs(caminhos_relativos, caminho_pasta_destino):\n",
    "    df_merged = pd.read_csv(caminhos_relativos[0],sep=',')\n",
    "\n",
    "    for i in range(1, len(caminhos_relativos)):\n",
    "        df = pd.read_csv(caminhos_relativos[i],sep=',')\n",
    "        df_merged = pd.concat([df_merged, df], ignore_index=True)\n",
    "\n",
    "    caminho_completo = os.path.join(caminho_pasta_destino, \"SINASC_FINAL.csv\")\n",
    "    df_merged.to_csv(caminho_completo, index=False)\n",
    "\n",
    "lista_caminhos =  caminhos_relativos\n",
    "caminho_pasta_destino = 'SINASC_concatenada_final'\n",
    "\n",
    "concatena_dfs(lista_caminhos, caminho_pasta_destino)"
   ]
  },
  {
   "cell_type": "markdown",
   "metadata": {},
   "source": [
    "# 4. Dataframe SINASC 2018 até 2020 Final"
   ]
  },
  {
   "cell_type": "code",
   "execution_count": 30,
   "metadata": {},
   "outputs": [
    {
     "name": "stderr",
     "output_type": "stream",
     "text": [
      "C:\\Users\\Elke\\AppData\\Local\\Temp\\ipykernel_9140\\2315837817.py:2: DtypeWarning: Columns (31) have mixed types. Specify dtype option on import or set low_memory=False.\n",
      "  df_SINASC_final = pd.read_csv('SINASC_concatenada_final\\SINASC_FINAL.csv',sep = ',')\n"
     ]
    }
   ],
   "source": [
    "#df = pd.read_csv('SINASC_concatenada_final\\SINASC_FINAL.csv',sep = ',', nrows = 20000000,usecols=[115])\n",
    "df_SINASC_final = pd.read_csv('SINASC_concatenada_final\\SINASC_FINAL.csv',sep = ',')"
   ]
  },
  {
   "cell_type": "code",
   "execution_count": 31,
   "metadata": {},
   "outputs": [
    {
     "name": "stdout",
     "output_type": "stream",
     "text": [
      "estado_nascimento\n",
      "SP    1741647\n",
      "MG     767730\n",
      "RJ     627612\n",
      "BA     591541\n",
      "PR     455961\n",
      "PA     413098\n",
      "RS     405385\n",
      "PE     400157\n",
      "CE     382580\n",
      "MA     336552\n",
      "SC     295557\n",
      "GO     287752\n",
      "AM     231344\n",
      "MT     174538\n",
      "PB     174285\n",
      "ES     165413\n",
      "AL     150640\n",
      "PI     142652\n",
      "RN     135669\n",
      "MS     129278\n",
      "DF     125978\n",
      "SE      98737\n",
      "RO      80917\n",
      "TO      73658\n",
      "AC      47965\n",
      "AP      45853\n",
      "RR      41724\n",
      "Name: count, dtype: int64\n"
     ]
    }
   ],
   "source": [
    "valores_unicos_contagens = df_SINASC_final['estado_nascimento'].value_counts()\n",
    "print(valores_unicos_contagens)"
   ]
  },
  {
   "cell_type": "code",
   "execution_count": 32,
   "metadata": {},
   "outputs": [
    {
     "name": "stdout",
     "output_type": "stream",
     "text": [
      "<class 'pandas.core.frame.DataFrame'>\n",
      "RangeIndex: 8524223 entries, 0 to 8524222\n",
      "Columns: 116 entries, ORIGEM to estado_nascimento\n",
      "dtypes: float64(45), int64(32), object(39)\n",
      "memory usage: 7.4+ GB\n"
     ]
    }
   ],
   "source": [
    "df_SINASC_final.info()"
   ]
  },
  {
   "cell_type": "code",
   "execution_count": 33,
   "metadata": {},
   "outputs": [],
   "source": [
    "#limpa variáveis do notebook\n",
    "\n",
    "#%reset -f\n"
   ]
  }
 ],
 "metadata": {
  "kernelspec": {
   "display_name": "Python 3 (ipykernel)",
   "language": "python",
   "name": "python3"
  },
  "language_info": {
   "codemirror_mode": {
    "name": "ipython",
    "version": 3
   },
   "file_extension": ".py",
   "mimetype": "text/x-python",
   "name": "python",
   "nbconvert_exporter": "python",
   "pygments_lexer": "ipython3",
   "version": "3.11.5"
  }
 },
 "nbformat": 4,
 "nbformat_minor": 5
}
